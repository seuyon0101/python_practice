{
 "cells": [
  {
   "cell_type": "code",
   "execution_count": 2,
   "id": "c6be5edb",
   "metadata": {},
   "outputs": [],
   "source": [
    "import matplotlib.pyplot as plt"
   ]
  },
  {
   "cell_type": "code",
   "execution_count": 98,
   "id": "489ba19b",
   "metadata": {},
   "outputs": [
    {
     "data": {
      "text/plain": [
       "[[2, 4], [4, 6]]"
      ]
     },
     "execution_count": 98,
     "metadata": {},
     "output_type": "execute_result"
    }
   ],
   "source": [
    "arr1 = [[1,2],[2,3]]\n",
    "arr2 = [[1,2],[2,3]]\n",
    "\n"
   ]
  },
  {
   "cell_type": "code",
   "execution_count": 121,
   "id": "9ce404f5",
   "metadata": {},
   "outputs": [
    {
     "data": {
      "text/plain": [
       "'*******4444'"
      ]
     },
     "execution_count": 121,
     "metadata": {},
     "output_type": "execute_result"
    }
   ],
   "source": [
    "import re\n",
    "phone = \"01033334444\"\n",
    "num = len(phone)-4\n",
    "rest = phone[-4:]\n",
    "phone = re.sub('[0-9]\\w*','*' * num,phone[:-4])\n",
    "''.join([phone,rest])"
   ]
  },
  {
   "cell_type": "code",
   "execution_count": 130,
   "id": "bc6b5aa7",
   "metadata": {},
   "outputs": [
    {
     "name": "stdout",
     "output_type": "stream",
     "text": [
      "[10, 9, 8, 7, 6, 5, 4, 3, 2]\n",
      "[2, 3, 4, 5, 6, 7, 8, 9, 10]\n"
     ]
    }
   ],
   "source": [
    "print([i for i in range(10, 1, -1)])\n",
    "print([i for i in range(2, 11)])"
   ]
  },
  {
   "cell_type": "code",
   "execution_count": 132,
   "id": "53c2361f",
   "metadata": {},
   "outputs": [
    {
     "name": "stdout",
     "output_type": "stream",
     "text": [
      "[3, 2]\n",
      "[2]\n"
     ]
    }
   ],
   "source": [
    "print([i for i in range(3, 1, -1)])\n",
    "print([i for i in range(2, 3)])"
   ]
  },
  {
   "cell_type": "code",
   "execution_count": 134,
   "id": "638fbb5c",
   "metadata": {},
   "outputs": [],
   "source": [
    "def solution(n):\n",
    "    answer = 1\n",
    "    for i in range(n, 1, -1) :\n",
    "        check = 0\n",
    "        for j in range(2, n) :\n",
    "            if  (i % j == 0) :\n",
    "                break\n",
    "            if check == 1:\n",
    "                answer += 1\n",
    "    return answer"
   ]
  },
  {
   "cell_type": "code",
   "execution_count": 135,
   "id": "18fe943d",
   "metadata": {},
   "outputs": [
    {
     "data": {
      "text/plain": [
       "1"
      ]
     },
     "execution_count": 135,
     "metadata": {},
     "output_type": "execute_result"
    }
   ],
   "source": [
    "solution(10)"
   ]
  },
  {
   "cell_type": "code",
   "execution_count": null,
   "id": "c6c053ca",
   "metadata": {},
   "outputs": [],
   "source": [
    "x = ['a','b']"
   ]
  },
  {
   "cell_type": "code",
   "execution_count": 180,
   "id": "34fcdd9a",
   "metadata": {},
   "outputs": [
    {
     "data": {
      "text/plain": [
       "'수박수박수박수박'"
      ]
     },
     "execution_count": 180,
     "metadata": {},
     "output_type": "execute_result"
    }
   ],
   "source": [
    "text = '수박' * 4\n",
    "text"
   ]
  },
  {
   "cell_type": "code",
   "execution_count": 147,
   "id": "aaf01fbb",
   "metadata": {},
   "outputs": [],
   "source": [
    "from itertools import combinations\n",
    "\n",
    "def solution(numbers):\n",
    "    comb = combinations(numbers, 2)\n",
    "    answer = []\n",
    "    for i in comb :\n",
    "        x, y = comb\n",
    "        answer.append(x+y)\n",
    "    return answer"
   ]
  },
  {
   "cell_type": "code",
   "execution_count": 152,
   "id": "4b75e6cc",
   "metadata": {},
   "outputs": [
    {
     "data": {
      "text/plain": [
       "2"
      ]
     },
     "execution_count": 152,
     "metadata": {},
     "output_type": "execute_result"
    }
   ],
   "source": [
    "numbers =[2,1,3,4,1]\n",
    "comb = list(combinations(numbers, 2))\n",
    "x,y  = comb[1]\n",
    "x"
   ]
  },
  {
   "cell_type": "markdown",
   "id": "83b4467e",
   "metadata": {},
   "source": [
    "# 시저 암호 "
   ]
  },
  {
   "cell_type": "code",
   "execution_count": 220,
   "id": "4619e6cf",
   "metadata": {},
   "outputs": [
    {
     "data": {
      "text/plain": [
       "['A',\n",
       " 'B',\n",
       " 'C',\n",
       " 'D',\n",
       " 'E',\n",
       " 'F',\n",
       " 'G',\n",
       " 'H',\n",
       " 'I',\n",
       " 'J',\n",
       " 'K',\n",
       " 'L',\n",
       " 'M',\n",
       " 'N',\n",
       " 'O',\n",
       " 'P',\n",
       " 'Q',\n",
       " 'R',\n",
       " 'S',\n",
       " 'T',\n",
       " 'U',\n",
       " 'V',\n",
       " 'W',\n",
       " 'X',\n",
       " 'Y',\n",
       " 'Z',\n",
       " 'a',\n",
       " 'b',\n",
       " 'c',\n",
       " 'd',\n",
       " 'e',\n",
       " 'f',\n",
       " 'g',\n",
       " 'h',\n",
       " 'i',\n",
       " 'j',\n",
       " 'k',\n",
       " 'l',\n",
       " 'm',\n",
       " 'n',\n",
       " 'o',\n",
       " 'p',\n",
       " 'q',\n",
       " 'r',\n",
       " 's',\n",
       " 't',\n",
       " 'u',\n",
       " 'v',\n",
       " 'w',\n",
       " 'x',\n",
       " 'y',\n",
       " 'z']"
      ]
     },
     "execution_count": 220,
     "metadata": {},
     "output_type": "execute_result"
    }
   ],
   "source": [
    "alphabet = [chr(ord('A') + i) for i in range(0,26)]\n",
    "alphabet.extend([chr(ord('a') + i) for i in range(0,26)])\n",
    "alphabet"
   ]
  },
  {
   "cell_type": "code",
   "execution_count": 227,
   "id": "68fe2c7a",
   "metadata": {},
   "outputs": [
    {
     "data": {
      "text/plain": [
       "'b'"
      ]
     },
     "execution_count": 227,
     "metadata": {},
     "output_type": "execute_result"
    }
   ],
   "source": [
    "alphabet[alphabet.index('a')+1]"
   ]
  },
  {
   "cell_type": "code",
   "execution_count": 221,
   "id": "17c6560e",
   "metadata": {},
   "outputs": [
    {
     "ename": "TypeError",
     "evalue": "'builtin_function_or_method' object is not subscriptable",
     "output_type": "error",
     "traceback": [
      "\u001b[0;31m---------------------------------------------------------------------------\u001b[0m",
      "\u001b[0;31mTypeError\u001b[0m                                 Traceback (most recent call last)",
      "Input \u001b[0;32mIn [221]\u001b[0m, in \u001b[0;36m<cell line: 7>\u001b[0;34m()\u001b[0m\n\u001b[1;32m      7\u001b[0m \u001b[38;5;28;01mfor\u001b[39;00m i \u001b[38;5;129;01min\u001b[39;00m \u001b[38;5;28mlist\u001b[39m(s) :\n\u001b[1;32m      8\u001b[0m     \u001b[38;5;28;01mif\u001b[39;00m i \u001b[38;5;129;01min\u001b[39;00m alphabet :\n\u001b[0;32m----> 9\u001b[0m         answer \u001b[38;5;241m+\u001b[39m\u001b[38;5;241m=\u001b[39m alphabet[\u001b[43malphabet\u001b[49m\u001b[38;5;241;43m.\u001b[39;49m\u001b[43mindex\u001b[49m\u001b[43m[\u001b[49m\u001b[43mi\u001b[49m\u001b[43m]\u001b[49m\u001b[38;5;241m+\u001b[39mn]        \n\u001b[1;32m     10\u001b[0m     \u001b[38;5;28;01melse\u001b[39;00m :\n\u001b[1;32m     11\u001b[0m         answer \u001b[38;5;241m+\u001b[39m\u001b[38;5;241m=\u001b[39m i\n",
      "\u001b[0;31mTypeError\u001b[0m: 'builtin_function_or_method' object is not subscriptable"
     ]
    }
   ],
   "source": [
    "s = 'abc'\n",
    "\n",
    "alphabet = [chr(ord('A')+i) for i in range(0,26)]\n",
    "alphabet.extend([chr(ord('a')+i) for i in range(0,26)])\n",
    "\n",
    "answer = ''\n",
    "\n",
    "for i in list(s) :\n",
    "    if i in alphabet :\n",
    "        answer += alphabet[alphabet.index[i]+n]        \n",
    "    else :\n",
    "        answer += i"
   ]
  },
  {
   "cell_type": "markdown",
   "id": "e069e78d",
   "metadata": {},
   "source": [
    "### set"
   ]
  },
  {
   "cell_type": "code",
   "execution_count": 244,
   "id": "21863dfc",
   "metadata": {},
   "outputs": [
    {
     "data": {
      "text/plain": [
       "['a']"
      ]
     },
     "execution_count": 244,
     "metadata": {},
     "output_type": "execute_result"
    }
   ],
   "source": [
    "a = ['a','a']\n",
    "a.remove(a[a.index('a')])\n",
    "a"
   ]
  },
  {
   "cell_type": "code",
   "execution_count": 249,
   "id": "b24166d7",
   "metadata": {},
   "outputs": [
    {
     "name": "stdout",
     "output_type": "stream",
     "text": [
      "['eden', 'kiki', 'leo']\n",
      "['eden', 'kiki']\n"
     ]
    }
   ],
   "source": [
    "print(sorted([\"leo\", \"kiki\", \"eden\"]))\n",
    "print(sorted(['eden','kiki']))"
   ]
  }
 ],
 "metadata": {
  "kernelspec": {
   "display_name": "Python 3 (ipykernel)",
   "language": "python",
   "name": "python3"
  },
  "language_info": {
   "codemirror_mode": {
    "name": "ipython",
    "version": 3
   },
   "file_extension": ".py",
   "mimetype": "text/x-python",
   "name": "python",
   "nbconvert_exporter": "python",
   "pygments_lexer": "ipython3",
   "version": "3.9.12"
  }
 },
 "nbformat": 4,
 "nbformat_minor": 5
}
