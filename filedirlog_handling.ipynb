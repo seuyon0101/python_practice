{
 "cells": [
  {
   "cell_type": "code",
   "execution_count": 77,
   "id": "e58df217",
   "metadata": {},
   "outputs": [],
   "source": [
    "import os #handling paths\n",
    "import time #handling time\n",
    "import shutil #shell util\n",
    "import pathlib #most used method to manipulate path as object\n",
    "import pickle #craeting, manipulating python binary files\n",
    "import logging\n",
    "import configparser\n"
   ]
  },
  {
   "cell_type": "markdown",
   "id": "40d38827",
   "metadata": {},
   "source": [
    "# file handling "
   ]
  },
  {
   "cell_type": "code",
   "execution_count": 39,
   "id": "3260d142",
   "metadata": {},
   "outputs": [],
   "source": [
    "with open(\"text_test.txt\", \"w\", encoding = \"utf-8\") as f:\n",
    "    for i in range(1,5):\n",
    "        data = f\"this is {i} row \\n\"\n",
    "        f.write(data)"
   ]
  },
  {
   "cell_type": "markdown",
   "id": "0467fc58",
   "metadata": {},
   "source": [
    "# dir handling "
   ]
  },
  {
   "cell_type": "code",
   "execution_count": 19,
   "id": "35a13b0d",
   "metadata": {},
   "outputs": [
    {
     "name": "stdout",
     "output_type": "stream",
     "text": [
      "already created\n"
     ]
    }
   ],
   "source": [
    "try :\n",
    "    os.mkdir(\"test\")\n",
    "except FileExistsError as e :\n",
    "    print(\"already created\")"
   ]
  },
  {
   "cell_type": "code",
   "execution_count": 49,
   "id": "57aa0fa4",
   "metadata": {},
   "outputs": [
    {
     "name": "stdout",
     "output_type": "stream",
     "text": [
      "/Users/seungyonglee/Desktop/Life3/python_practice/quotes.txt\n",
      "quotes.txt\n"
     ]
    },
    {
     "data": {
      "text/plain": [
       "time.struct_time(tm_year=2022, tm_mon=7, tm_mday=6, tm_hour=19, tm_min=2, tm_sec=36, tm_wday=2, tm_yday=187, tm_isdst=0)"
      ]
     },
     "execution_count": 49,
     "metadata": {},
     "output_type": "execute_result"
    }
   ],
   "source": [
    "txt = \"quotes.txt\"\n",
    "a = os.path.abspath(txt)\n",
    "b = os.path.basename(txt)\n",
    "c = os.path.getatime(txt)\n",
    "print(a)\n",
    "print(b)\n",
    "time.localtime(c)"
   ]
  },
  {
   "cell_type": "code",
   "execution_count": 52,
   "id": "66bc79c9",
   "metadata": {},
   "outputs": [
    {
     "data": {
      "text/plain": [
       "'path_test/quotes.txt'"
      ]
     },
     "execution_count": 52,
     "metadata": {},
     "output_type": "execute_result"
    }
   ],
   "source": [
    "source = \"quotes.txt\"\n",
    "# os.mkdir(\"path_test\")\n",
    "dir_test = \"path_test\"\n",
    "dest = os.path.join(dir_test,source)\n",
    "shutil.copy(source, dest)"
   ]
  },
  {
   "cell_type": "code",
   "execution_count": 60,
   "id": "310712e7",
   "metadata": {},
   "outputs": [
    {
     "name": "stdout",
     "output_type": "stream",
     "text": [
      "/Users/seungyonglee/Desktop/Life3/python_practice\n",
      "/Users/seungyonglee/Desktop/Life3\n",
      "[PosixPath('/Users/seungyonglee/Desktop/Life3'), PosixPath('/Users/seungyonglee/Desktop'), PosixPath('/Users/seungyonglee'), PosixPath('/Users'), PosixPath('/')]\n"
     ]
    }
   ],
   "source": [
    "cwd = pathlib.Path.cwd()\n",
    "print(cwd)\n",
    "print(cwd.parent)\n",
    "print(list(cwd.parents))"
   ]
  },
  {
   "cell_type": "code",
   "execution_count": 37,
   "id": "09605213",
   "metadata": {},
   "outputs": [],
   "source": [
    "# if not os.path.exists(\"test.pickle\") :\n",
    "f = open(\"test.pickle\", mode = \"wb\")\n",
    "text = [i for i in range(0,6)]\n",
    "pickle.dump(text, f)\n",
    "f.close()"
   ]
  },
  {
   "cell_type": "code",
   "execution_count": 38,
   "id": "61989247",
   "metadata": {},
   "outputs": [
    {
     "name": "stdout",
     "output_type": "stream",
     "text": [
      "<_io.BufferedReader name='test.pickle'>\n",
      "[0, 1, 2, 3, 4, 5]\n"
     ]
    }
   ],
   "source": [
    "f = open(\"test.pickle\", 'rb')\n",
    "print(f)\n",
    "pickle_file = pickle.load(f)\n",
    "print(pickle_file)"
   ]
  },
  {
   "cell_type": "markdown",
   "id": "1a4433bb",
   "metadata": {},
   "source": [
    "# Logging"
   ]
  },
  {
   "cell_type": "code",
   "execution_count": 40,
   "id": "26d912cc",
   "metadata": {},
   "outputs": [],
   "source": [
    "#개발시 로그는 디버깅용, 실행시 로그는 유저분석 ->레벨로 분류 "
   ]
  },
  {
   "cell_type": "code",
   "execution_count": 43,
   "id": "1e139a5e",
   "metadata": {},
   "outputs": [
    {
     "name": "stderr",
     "output_type": "stream",
     "text": [
      "WARNING:root:warning!\n",
      "ERROR:root:error!\n",
      "CRITICAL:root:serious problem : check everything\n"
     ]
    }
   ],
   "source": [
    "logging.debug(\"wrong code\")\n",
    "logging.info(\"check code\")\n",
    "logging.warning(\"warning!\")\n",
    "logging.error(\"error!\")\n",
    "logging.critical(\"serious problem : check everything\")"
   ]
  },
  {
   "cell_type": "markdown",
   "id": "47e4a8fc",
   "metadata": {},
   "source": [
    "# configparser "
   ]
  },
  {
   "cell_type": "code",
   "execution_count": 52,
   "id": "ee4a6eb4",
   "metadata": {},
   "outputs": [
    {
     "data": {
      "text/plain": [
       "['Section One', 'Section Two']"
      ]
     },
     "execution_count": 52,
     "metadata": {},
     "output_type": "execute_result"
    }
   ],
   "source": [
    "config = configparser.ConfigParser()\n",
    "config.read(\"config_t.cfg\")\n",
    "config.sections()"
   ]
  },
  {
   "cell_type": "code",
   "execution_count": 73,
   "id": "400c01f9",
   "metadata": {},
   "outputs": [
    {
     "name": "stdout",
     "output_type": "stream",
     "text": [
      "name SeungYong\n",
      "age 20\n",
      "nationality Korea\n"
     ]
    }
   ],
   "source": [
    "for key in config['Section One'] :\n",
    "    value = config['Section One'][key]\n",
    "    print(key, value)\n",
    "    "
   ]
  },
  {
   "cell_type": "code",
   "execution_count": null,
   "id": "0839f51c",
   "metadata": {},
   "outputs": [],
   "source": []
  }
 ],
 "metadata": {
  "kernelspec": {
   "display_name": "Python 3 (ipykernel)",
   "language": "python",
   "name": "python3"
  },
  "language_info": {
   "codemirror_mode": {
    "name": "ipython",
    "version": 3
   },
   "file_extension": ".py",
   "mimetype": "text/x-python",
   "name": "python",
   "nbconvert_exporter": "python",
   "pygments_lexer": "ipython3",
   "version": "3.9.12"
  }
 },
 "nbformat": 4,
 "nbformat_minor": 5
}
