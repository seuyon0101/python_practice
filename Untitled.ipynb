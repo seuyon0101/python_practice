{
 "cells": [
  {
   "cell_type": "markdown",
   "id": "9daa757f",
   "metadata": {},
   "source": [
    "# file handling "
   ]
  },
  {
   "cell_type": "code",
   "execution_count": 2,
   "id": "6c410702",
   "metadata": {},
   "outputs": [],
   "source": [
    "with open(\"text_test.txt\", \"w\", encoding = \"UTF-8\") as f:\n",
    "    for i in range(1,5):\n",
    "        data = f\"this is {i} row \\n\"\n",
    "        f.write(data)"
   ]
  },
  {
   "cell_type": "code",
   "execution_count": null,
   "id": "dd0a773e",
   "metadata": {},
   "outputs": [],
   "source": []
  }
 ],
 "metadata": {
  "kernelspec": {
   "display_name": "Python 3 (ipykernel)",
   "language": "python",
   "name": "python3"
  },
  "language_info": {
   "codemirror_mode": {
    "name": "ipython",
    "version": 3
   },
   "file_extension": ".py",
   "mimetype": "text/x-python",
   "name": "python",
   "nbconvert_exporter": "python",
   "pygments_lexer": "ipython3",
   "version": "3.9.12"
  }
 },
 "nbformat": 4,
 "nbformat_minor": 5
}
