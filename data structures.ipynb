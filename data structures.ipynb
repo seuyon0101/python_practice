{
 "cells": [
  {
   "cell_type": "markdown",
   "id": "88b0a22a",
   "metadata": {},
   "source": [
    "# Array Operation"
   ]
  },
  {
   "cell_type": "code",
   "execution_count": null,
   "id": "3089a3a0",
   "metadata": {},
   "outputs": [],
   "source": [
    "array = [1,2,3,4,5]\n",
    "array.insert(0,2)\n",
    "array.remove(2)\n",
    "print(array[:2])"
   ]
  },
  {
   "cell_type": "code",
   "execution_count": null,
   "id": "d1246493",
   "metadata": {},
   "outputs": [],
   "source": [
    "max = array[0]\n",
    "\n",
    "for num in array:\n",
    "    if num > max :\n",
    "        max = num\n",
    "print(max)"
   ]
  },
  {
   "cell_type": "code",
   "execution_count": null,
   "id": "6bf30034",
   "metadata": {},
   "outputs": [],
   "source": [
    "a = [1,2,3,4,5]"
   ]
  },
  {
   "cell_type": "code",
   "execution_count": null,
   "id": "550db3d3",
   "metadata": {},
   "outputs": [],
   "source": [
    "def Reverse(nums):\n",
    "    start_index = 0\n",
    "    end_index = len(nums)-1\n",
    "    while end_index > start_index :\n",
    "        nums[start_index], nums[end_index] = nums[end_index], nums[start_index]\n",
    "        start_index += 1\n",
    "        end_index -= 1\n",
    "    return nums"
   ]
  },
  {
   "cell_type": "code",
   "execution_count": null,
   "id": "062e07ff",
   "metadata": {},
   "outputs": [],
   "source": [
    "Reverse(a)"
   ]
  },
  {
   "cell_type": "code",
   "execution_count": null,
   "id": "aae5137a",
   "metadata": {},
   "outputs": [],
   "source": [
    "\"hello\""
   ]
  },
  {
   "cell_type": "code",
   "execution_count": null,
   "id": "58256c85",
   "metadata": {},
   "outputs": [],
   "source": [
    "def palindrome(s) :\n",
    "    if s == s[::-1] :\n",
    "        return True\n",
    "    else :\n",
    "        return False"
   ]
  },
  {
   "cell_type": "code",
   "execution_count": null,
   "id": "d57d6cfc",
   "metadata": {},
   "outputs": [],
   "source": [
    "palindrome('mdadam')"
   ]
  },
  {
   "cell_type": "code",
   "execution_count": null,
   "id": "b432e03d",
   "metadata": {},
   "outputs": [],
   "source": [
    "def reverse_i(data):\n",
    "    string_data = str(data)\n",
    "    string_data = string_data[::-1]\n",
    "    result = int(string_data)\n",
    "    return result "
   ]
  },
  {
   "cell_type": "code",
   "execution_count": null,
   "id": "1130e440",
   "metadata": {},
   "outputs": [],
   "source": [
    "reverse_i(12345)"
   ]
  },
  {
   "cell_type": "code",
   "execution_count": null,
   "id": "4315a787",
   "metadata": {},
   "outputs": [],
   "source": [
    "def anagram(data1, data2) :\n",
    "    original_string = sorted(list(data1))\n",
    "    comparing_string = sorted(list(data2))\n",
    "    \n",
    "    if original_string == comparing_string :\n",
    "        return True\n",
    "    else :\n",
    "        return False"
   ]
  },
  {
   "cell_type": "code",
   "execution_count": null,
   "id": "ddf950f8",
   "metadata": {},
   "outputs": [],
   "source": [
    "anagram('hello','hellos')"
   ]
  },
  {
   "cell_type": "code",
   "execution_count": null,
   "id": "11b5e992",
   "metadata": {},
   "outputs": [],
   "source": [
    "def dutch_prob(data) :\n",
    "    s_index = 0\n",
    "    m_index = 1\n",
    "    l_index = 2 \n",
    "    \n",
    "    if data[s_index] > data[l_index] :\n",
    "        data[s_index] , data[l_index] = data[l_index] , data[s_index]\n",
    "        \n",
    "    if data[m_index] > data[l_index] :\n",
    "        data[m_index] , data[l_index] = data[l_index] , data[m_index]\n",
    "        \n",
    "    if data[s_index] > data[m_index] :\n",
    "        data[s_index] , data[m_index] = data[m_index] , data[s_index]\n",
    "        \n",
    "\n",
    "    return data"
   ]
  },
  {
   "cell_type": "code",
   "execution_count": null,
   "id": "9f4d8965",
   "metadata": {},
   "outputs": [],
   "source": [
    "data = [2,3,1]\n",
    "dutch_prob(data)"
   ]
  },
  {
   "cell_type": "code",
   "execution_count": null,
   "id": "c6eaa2ba",
   "metadata": {},
   "outputs": [],
   "source": [
    "data = [1,0,2,1,3,1,2,0,3]"
   ]
  },
  {
   "cell_type": "code",
   "execution_count": null,
   "id": "97019aeb",
   "metadata": {},
   "outputs": [],
   "source": [
    "left_max = [0 for _ in range(len(data))]\n",
    "right_max = [0 for _ in range(len(data))]"
   ]
  },
  {
   "cell_type": "code",
   "execution_count": null,
   "id": "26b32584",
   "metadata": {},
   "outputs": [],
   "source": [
    "for i in range(1, len(data)) :\n",
    "    left_max[i] = max(left_max[i-1], data[i-1])\n",
    "left_max"
   ]
  },
  {
   "cell_type": "code",
   "execution_count": null,
   "id": "61ad7d56",
   "metadata": {},
   "outputs": [],
   "source": [
    "for i in range(len(data)-2,-1,-1) :\n",
    "    right_max[i] = max(right_max[i+1], data[i + 1])\n",
    "\n",
    "right_max"
   ]
  },
  {
   "cell_type": "code",
   "execution_count": null,
   "id": "547f3761",
   "metadata": {},
   "outputs": [],
   "source": [
    "result = []\n",
    "for i in range(0,len(data)-1):\n",
    "    a = min(left_max[i], right_max[i]) - data[i]\n",
    "    if a > 0 :\n",
    "        result.append(a)\n",
    "    else :\n",
    "        result.append(0)\n",
    "result"
   ]
  },
  {
   "cell_type": "code",
   "execution_count": null,
   "id": "6e4bedaa",
   "metadata": {},
   "outputs": [],
   "source": [
    "data = {1:2, 3:2}\n",
    "data[1]"
   ]
  },
  {
   "cell_type": "code",
   "execution_count": null,
   "id": "9540c3ac",
   "metadata": {},
   "outputs": [],
   "source": [
    "a = [1,7,3,4,5,1,3,1,4]\n",
    "b = [[1,5,1],[2,3,1]]"
   ]
  },
  {
   "cell_type": "code",
   "execution_count": null,
   "id": "545be797",
   "metadata": {},
   "outputs": [],
   "source": [
    "def solution(array, commands):\n",
    "    answer = []\n",
    "    for item in commands :\n",
    "        i,j,k = item\n",
    "        sort_array = array[i:j]\n",
    "        answer.append(sort_array[k-1])\n",
    "    return answer"
   ]
  },
  {
   "cell_type": "code",
   "execution_count": null,
   "id": "c2f558ea",
   "metadata": {},
   "outputs": [],
   "source": [
    "solution(a,b)"
   ]
  },
  {
   "cell_type": "code",
   "execution_count": null,
   "id": "4acf4724",
   "metadata": {},
   "outputs": [],
   "source": [
    "sum(a)"
   ]
  },
  {
   "cell_type": "code",
   "execution_count": null,
   "id": "bee2f537",
   "metadata": {},
   "outputs": [],
   "source": [
    "dict_test = {'ADAM':2 , 'MADA':4}\n",
    "print(dict_test)"
   ]
  },
  {
   "cell_type": "code",
   "execution_count": null,
   "id": "ba27cabe",
   "metadata": {},
   "outputs": [],
   "source": [
    "dict_test['ADAM'] +=1"
   ]
  },
  {
   "cell_type": "code",
   "execution_count": null,
   "id": "fb159bfa",
   "metadata": {},
   "outputs": [],
   "source": [
    "dict_test"
   ]
  },
  {
   "cell_type": "code",
   "execution_count": null,
   "id": "96ec4732",
   "metadata": {},
   "outputs": [],
   "source": [
    "a= ['a','b','c']\n",
    "adict = { j : i for i, j in enumerate(a) }\n",
    "adict"
   ]
  },
  {
   "cell_type": "code",
   "execution_count": null,
   "id": "c39b8489",
   "metadata": {},
   "outputs": [],
   "source": [
    "adict['d'] = 2"
   ]
  },
  {
   "cell_type": "code",
   "execution_count": null,
   "id": "de8cacec",
   "metadata": {},
   "outputs": [],
   "source": [
    "adict"
   ]
  },
  {
   "cell_type": "code",
   "execution_count": null,
   "id": "12c27b3e",
   "metadata": {},
   "outputs": [],
   "source": [
    "k =2\n",
    "id_list = [\"muzi\", \"frodo\", \"apeach\", \"neo\"]\n",
    "report = [\"muzi frodo\",\"apeach frodo\",\"frodo neo\",\"muzi neo\",\"apeach muzi\"]\n",
    "# report = set(report)\n",
    "# report = list(set(id_list))\n",
    "# report\n",
    "# report = [i.split(\" \") for i in list(set(report))]\n",
    "# report = [i.split(\" \") for i in report]\n",
    "\n",
    "report"
   ]
  },
  {
   "cell_type": "code",
   "execution_count": null,
   "id": "2b999ed5",
   "metadata": {},
   "outputs": [],
   "source": [
    "\n",
    "\n",
    "print(reporting_list)"
   ]
  },
  {
   "cell_type": "code",
   "execution_count": 171,
   "id": "ea37ad4c",
   "metadata": {},
   "outputs": [
    {
     "data": {
      "text/plain": [
       "[['apeach', 'frodo'],\n",
       " ['muzi', 'neo'],\n",
       " ['apeach', 'muzi'],\n",
       " ['muzi', 'frodo'],\n",
       " ['frodo', 'neo']]"
      ]
     },
     "execution_count": 171,
     "metadata": {},
     "output_type": "execute_result"
    }
   ],
   "source": [
    "report"
   ]
  },
  {
   "cell_type": "code",
   "execution_count": null,
   "id": "ebc866cd",
   "metadata": {},
   "outputs": [],
   "source": [
    "def solution(id_list, report, k):\n",
    "    report = [i.split(\" \") for i in list(set(report))]\n",
    "    reported_list = {i : 0 for i in id_list}\n",
    "    reporting_list = {i : 0 for i in id_list}\n",
    "\n",
    "    for i in report :\n",
    "        x,y = i\n",
    "        reported_list[y] += 1\n",
    "\n",
    "    for i in report :\n",
    "        x,y = i\n",
    "        if reported_list[y] >= 2 :\n",
    "            reporting_list[x] += 1\n",
    "\n",
    "    answer = [v for k,v in reporting_list.items()]\n",
    "    return answer"
   ]
  },
  {
   "cell_type": "markdown",
   "id": "044c1069",
   "metadata": {},
   "source": [
    "### regex practice"
   ]
  },
  {
   "cell_type": "code",
   "execution_count": null,
   "id": "913b0b85",
   "metadata": {},
   "outputs": [],
   "source": [
    "import re"
   ]
  },
  {
   "cell_type": "code",
   "execution_count": null,
   "id": "b45805bd",
   "metadata": {},
   "outputs": [],
   "source": [
    "text = \"abcdefghijklmn.p\""
   ]
  },
  {
   "cell_type": "code",
   "execution_count": null,
   "id": "afb4c7d8",
   "metadata": {},
   "outputs": [],
   "source": [
    "text = text.lower()"
   ]
  },
  {
   "cell_type": "code",
   "execution_count": null,
   "id": "b963247c",
   "metadata": {},
   "outputs": [],
   "source": [
    "text = re.sub(\"[\\!\\@\\#]\",'',text)"
   ]
  },
  {
   "cell_type": "code",
   "execution_count": null,
   "id": "fb068514",
   "metadata": {},
   "outputs": [],
   "source": [
    "text = re.sub(\"[\\.]*\\.\",'.',text)"
   ]
  },
  {
   "cell_type": "code",
   "execution_count": null,
   "id": "9fbf2c65",
   "metadata": {},
   "outputs": [],
   "source": [
    "text = re.sub(\"^\\.\",'',text)\n",
    "text = re.sub(\"\\.$\",'',text)"
   ]
  },
  {
   "cell_type": "code",
   "execution_count": null,
   "id": "6d734e3b",
   "metadata": {},
   "outputs": [],
   "source": [
    "text"
   ]
  },
  {
   "cell_type": "code",
   "execution_count": null,
   "id": "e1b011bc",
   "metadata": {},
   "outputs": [],
   "source": [
    "text = re.findall(\".{15}\", text)[0]"
   ]
  },
  {
   "cell_type": "code",
   "execution_count": null,
   "id": "26c2b507",
   "metadata": {},
   "outputs": [],
   "source": [
    "len(text)"
   ]
  },
  {
   "cell_type": "code",
   "execution_count": null,
   "id": "d6417ca9",
   "metadata": {},
   "outputs": [],
   "source": [
    "text = \"sd\""
   ]
  },
  {
   "cell_type": "code",
   "execution_count": null,
   "id": "36375778",
   "metadata": {},
   "outputs": [],
   "source": [
    "while len(text) <= 2:\n",
    "    text = text + text[-1]"
   ]
  },
  {
   "cell_type": "code",
   "execution_count": null,
   "id": "fbad8588",
   "metadata": {},
   "outputs": [],
   "source": []
  },
  {
   "cell_type": "code",
   "execution_count": null,
   "id": "86544cd8",
   "metadata": {},
   "outputs": [],
   "source": [
    "import re\n",
    "\n",
    "def solution(new_id):\n",
    "    \n",
    "    new_id = new_id.lower()\n",
    "    new_id = re.sub(\"[^a-zA-Z0-9\\-\\_\\.]\",'', new_id)\n",
    "    new_id = re.sub(\"[\\.]\\.*\",'.', new_id)\n",
    "    new_id = re.sub(\"^\\.\",'', new_id)\n",
    "    new_id = re.sub(\"\\.\\B\",'', new_id)\n",
    "    new_id = re.sub(\"\\s\",'a', new_id)\n",
    "    \n",
    "    if len(new_id) >= 15 :\n",
    "        new_id = new_id[:15]\n",
    "        new_id = re.sub(\"\\.\\B\",'', new_id)\n",
    "        new_id = re.sub(\"\\s\",'a', new_id)\n",
    "        \n",
    "    while len(new_id) <= 2 :\n",
    "        new_id = re.sub(\"\\s\",'a', new_id)\n",
    "        new_id = new_id + new_id[-1:]\n",
    "        \n",
    "        \n",
    "    return new_id"
   ]
  },
  {
   "cell_type": "code",
   "execution_count": null,
   "id": "ff26536e",
   "metadata": {},
   "outputs": [],
   "source": [
    "solution(text)"
   ]
  },
  {
   "cell_type": "code",
   "execution_count": null,
   "id": "63bf8af7",
   "metadata": {},
   "outputs": [],
   "source": [
    "solution('sasssxxsxsxssxssdfsdfsfdxsx')"
   ]
  },
  {
   "cell_type": "code",
   "execution_count": null,
   "id": "0ab01ed8",
   "metadata": {},
   "outputs": [],
   "source": [
    "import re \n",
    "\n",
    "def solution(s):\n",
    "    eng = ['zero','one','two','three','four','five','six','seven','eight','nine']\n",
    "    eng = {value : str(number) for number,value in enumerate(eng)}\n",
    "    answer = s\n",
    "    \n",
    "    for k,v in eng.items() :\n",
    "        answer = re.sub(k,v,answer)\n",
    "        \n",
    "    \n",
    "    return answer"
   ]
  },
  {
   "cell_type": "markdown",
   "id": "c7edffe6",
   "metadata": {},
   "source": [
    "# 키패드 누르기"
   ]
  },
  {
   "cell_type": "code",
   "execution_count": 82,
   "id": "0f87b349",
   "metadata": {},
   "outputs": [],
   "source": [
    "numbers = [1, 3, 4, 5, 8, 2, 1, 4, 5, 9, 5]\n",
    "status =  {'current_left' : [-1,-2],'current_right' : [1,-2], 'left' : 'L' , 'right' : 'R'}\n",
    "hand = \"right\""
   ]
  },
  {
   "cell_type": "code",
   "execution_count": 83,
   "id": "eaef5c79",
   "metadata": {},
   "outputs": [],
   "source": [
    "# keypad = {1 : (1,1,'L') , 2 : (1,2,'') , 3 : (1,3,'R'),\n",
    "#           4 : (2,1,'L') , 5 : (2,2,'') , 6 : (2,3,'R'),\n",
    "#           7 : (3,1,'L') , 8 : (3,2,'') ,  9 : (3,3,'R'),\n",
    "#           '*' : (4,1,'L') ,  0 : (4,2,'') ,  '#' : (4,3,'R')}"
   ]
  },
  {
   "cell_type": "code",
   "execution_count": 87,
   "id": "aaef09b2",
   "metadata": {},
   "outputs": [
    {
     "name": "stdout",
     "output_type": "stream",
     "text": [
      "LRLLLRLLRRL\n"
     ]
    }
   ],
   "source": [
    "answer = ''\n",
    "\n",
    "for i in numbers :\n",
    "    if keypad[i][2] == 'L' :\n",
    "        status['current_left'] = [keypad[i][0],keypad[i][1]]\n",
    "        answer += keypad[i][2]\n",
    "        \n",
    "    if keypad[i][2] == 'R' :\n",
    "        status['current_right'] = [keypad[i][0],keypad[i][1]]\n",
    "        answer += keypad[i][2]\n",
    "        \n",
    "    if keypad[i][2] == '':\n",
    "        if abs(status['current_left'][0] - keypad[i][0]) + abs(status['current_left'][1] - keypad[i][1]) < abs(status['current_right'][0] - keypad[i][0])  + abs(status['current_right'][1] - keypad[i][1]) :\n",
    "            status['current_left'] = [keypad[i][0],keypad[i][1]]\n",
    "            answer += 'L'\n",
    "            \n",
    "        elif abs(status['current_left'][0] - keypad[i][0]) + abs(status['current_left'][1] - keypad[i][1]) == abs(status['current_right'][0] - keypad[i][0])  + abs(status['current_right'][1] - keypad[i][1]) :\n",
    "            status['current_'+hand] = [keypad[i][0],keypad[i][1]]\n",
    "            answer += status[hand]\n",
    "                    \n",
    "        else :\n",
    "            status['current_right'] = [keypad[i][0],keypad[i][1]]\n",
    "            answer += 'R'\n",
    "\n",
    "\n",
    "print(answer)"
   ]
  },
  {
   "cell_type": "code",
   "execution_count": 85,
   "id": "428fef2d",
   "metadata": {},
   "outputs": [],
   "source": [
    "keypad = {1 : (-1,1,'L') , 2 : (0,1,'') , 3 : (1,1,'R'),\n",
    "          4 : (-1,0,'L') , 5 : (0,0,'') , 6 : (1,0,'R'),\n",
    "          7 : (-1,-1,'L') , 8 : (0,-1,'') ,  9 : (1,-1,'R'),\n",
    "          '*' : (-1,-2,'L') ,  0 : (0,-2,'') ,  '#' : (1,-2,'R')}"
   ]
  },
  {
   "cell_type": "code",
   "execution_count": 75,
   "id": "77d77f3c",
   "metadata": {},
   "outputs": [
    {
     "data": {
      "text/plain": [
       "'LRLLLRLLRRL'"
      ]
     },
     "execution_count": 75,
     "metadata": {},
     "output_type": "execute_result"
    }
   ],
   "source": [
    "\"LRLLLRLLRRL\""
   ]
  },
  {
   "cell_type": "code",
   "execution_count": 54,
   "id": "fedfe92e",
   "metadata": {},
   "outputs": [
    {
     "name": "stdout",
     "output_type": "stream",
     "text": [
      "L\n",
      "R\n",
      "L\n",
      "\n",
      "\n",
      "\n",
      "L\n",
      "L\n",
      "\n",
      "R\n",
      "\n"
     ]
    }
   ],
   "source": [
    "for i in numbers :\n",
    "    print(keypad[i][2])"
   ]
  },
  {
   "cell_type": "markdown",
   "id": "1b81ecd1",
   "metadata": {},
   "source": [
    "## combinations "
   ]
  },
  {
   "cell_type": "code",
   "execution_count": 113,
   "id": "d8d0f50c",
   "metadata": {},
   "outputs": [
    {
     "data": {
      "text/plain": [
       "42"
      ]
     },
     "execution_count": 113,
     "metadata": {},
     "output_type": "execute_result"
    }
   ],
   "source": [
    "from itertools import combinations\n",
    "\n",
    "nums = [1,2,7,6,4]\n",
    "comb = list(combinations(nums,3))\n",
    "result = 0\n",
    "\n",
    "\n",
    "for c in comb :\n",
    "    addition = sum(c)\n",
    "    for i in range(2,addition):\n",
    "        if addition % i == 0 :\n",
    "            break\n",
    "        else :\n",
    "            result += 1\n",
    "            \n",
    "\n",
    "result"
   ]
  },
  {
   "cell_type": "code",
   "execution_count": null,
   "id": "cc26c235",
   "metadata": {},
   "outputs": [],
   "source": []
  }
 ],
 "metadata": {
  "kernelspec": {
   "display_name": "Python 3 (ipykernel)",
   "language": "python",
   "name": "python3"
  },
  "language_info": {
   "codemirror_mode": {
    "name": "ipython",
    "version": 3
   },
   "file_extension": ".py",
   "mimetype": "text/x-python",
   "name": "python",
   "nbconvert_exporter": "python",
   "pygments_lexer": "ipython3",
   "version": "3.9.12"
  }
 },
 "nbformat": 4,
 "nbformat_minor": 5
}
