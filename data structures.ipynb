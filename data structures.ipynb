{
 "cells": [
  {
   "cell_type": "markdown",
   "id": "24166279",
   "metadata": {},
   "source": [
    "# Array Operation"
   ]
  },
  {
   "cell_type": "code",
   "execution_count": null,
   "id": "acb28cb9",
   "metadata": {},
   "outputs": [],
   "source": [
    "array = [1,2,3,4,5]\n",
    "array.insert(0,2)\n",
    "array.remove(2)\n",
    "print(array[:2])"
   ]
  },
  {
   "cell_type": "code",
   "execution_count": null,
   "id": "a173d82d",
   "metadata": {},
   "outputs": [],
   "source": [
    "max = array[0]\n",
    "\n",
    "for num in array:\n",
    "    if num > max :\n",
    "        max = num\n",
    "print(max)"
   ]
  },
  {
   "cell_type": "code",
   "execution_count": null,
   "id": "f9c1a5f8",
   "metadata": {},
   "outputs": [],
   "source": [
    "a = [1,2,3,4,5]"
   ]
  },
  {
   "cell_type": "code",
   "execution_count": null,
   "id": "94e7e7fd",
   "metadata": {},
   "outputs": [],
   "source": [
    "def Reverse(nums):\n",
    "    start_index = 0\n",
    "    end_index = len(nums)-1\n",
    "    while end_index > start_index :\n",
    "        nums[start_index], nums[end_index] = nums[end_index], nums[start_index]\n",
    "        start_index += 1\n",
    "        end_index -= 1\n",
    "    return nums"
   ]
  },
  {
   "cell_type": "code",
   "execution_count": null,
   "id": "608bd112",
   "metadata": {},
   "outputs": [],
   "source": [
    "Reverse(a)"
   ]
  },
  {
   "cell_type": "code",
   "execution_count": null,
   "id": "f67159bf",
   "metadata": {},
   "outputs": [],
   "source": [
    "\"hello\""
   ]
  },
  {
   "cell_type": "code",
   "execution_count": null,
   "id": "a63e9892",
   "metadata": {},
   "outputs": [],
   "source": [
    "def palindrome(s) :\n",
    "    if s == s[::-1] :\n",
    "        return True\n",
    "    else :\n",
    "        return False"
   ]
  },
  {
   "cell_type": "code",
   "execution_count": null,
   "id": "b557f60e",
   "metadata": {},
   "outputs": [],
   "source": [
    "palindrome('mdadam')"
   ]
  },
  {
   "cell_type": "code",
   "execution_count": null,
   "id": "21b4131c",
   "metadata": {},
   "outputs": [],
   "source": [
    "def reverse_i(data):\n",
    "    string_data = str(data)\n",
    "    string_data = string_data[::-1]\n",
    "    result = int(string_data)\n",
    "    return result "
   ]
  },
  {
   "cell_type": "code",
   "execution_count": null,
   "id": "b4df28ca",
   "metadata": {},
   "outputs": [],
   "source": [
    "reverse_i(12345)"
   ]
  },
  {
   "cell_type": "code",
   "execution_count": null,
   "id": "47200cbc",
   "metadata": {},
   "outputs": [],
   "source": [
    "def anagram(data1, data2) :\n",
    "    original_string = sorted(list(data1))\n",
    "    comparing_string = sorted(list(data2))\n",
    "    \n",
    "    if original_string == comparing_string :\n",
    "        return True\n",
    "    else :\n",
    "        return False"
   ]
  },
  {
   "cell_type": "code",
   "execution_count": null,
   "id": "7e5a80bf",
   "metadata": {},
   "outputs": [],
   "source": [
    "anagram('hello','hellos')"
   ]
  },
  {
   "cell_type": "code",
   "execution_count": null,
   "id": "ce38395e",
   "metadata": {},
   "outputs": [],
   "source": [
    "def dutch_prob(data) :\n",
    "    s_index = 0\n",
    "    m_index = 1\n",
    "    l_index = 2 \n",
    "    \n",
    "    if data[s_index] > data[l_index] :\n",
    "        data[s_index] , data[l_index] = data[l_index] , data[s_index]\n",
    "        \n",
    "    if data[m_index] > data[l_index] :\n",
    "        data[m_index] , data[l_index] = data[l_index] , data[m_index]\n",
    "        \n",
    "    if data[s_index] > data[m_index] :\n",
    "        data[s_index] , data[m_index] = data[m_index] , data[s_index]\n",
    "        \n",
    "\n",
    "    return data"
   ]
  },
  {
   "cell_type": "code",
   "execution_count": null,
   "id": "32e019ce",
   "metadata": {},
   "outputs": [],
   "source": [
    "data = [2,3,1]\n",
    "dutch_prob(data)"
   ]
  },
  {
   "cell_type": "code",
   "execution_count": null,
   "id": "a95ea88e",
   "metadata": {},
   "outputs": [],
   "source": [
    "data = [1,0,2,1,3,1,2,0,3]"
   ]
  },
  {
   "cell_type": "code",
   "execution_count": null,
   "id": "2f36df3f",
   "metadata": {},
   "outputs": [],
   "source": [
    "left_max = [0 for _ in range(len(data))]\n",
    "right_max = [0 for _ in range(len(data))]"
   ]
  },
  {
   "cell_type": "code",
   "execution_count": null,
   "id": "80efc3b1",
   "metadata": {},
   "outputs": [],
   "source": [
    "for i in range(1, len(data)) :\n",
    "    left_max[i] = max(left_max[i-1], data[i-1])\n",
    "left_max"
   ]
  },
  {
   "cell_type": "code",
   "execution_count": null,
   "id": "6d4b734e",
   "metadata": {},
   "outputs": [],
   "source": [
    "for i in range(len(data)-2,-1,-1) :\n",
    "    right_max[i] = max(right_max[i+1], data[i + 1])\n",
    "\n",
    "right_max"
   ]
  },
  {
   "cell_type": "code",
   "execution_count": null,
   "id": "2ea63e2f",
   "metadata": {},
   "outputs": [],
   "source": [
    "result = []\n",
    "for i in range(0,len(data)-1):\n",
    "    a = min(left_max[i], right_max[i]) - data[i]\n",
    "    if a > 0 :\n",
    "        result.append(a)\n",
    "    else :\n",
    "        result.append(0)\n",
    "result"
   ]
  },
  {
   "cell_type": "code",
   "execution_count": null,
   "id": "dd5c4f20",
   "metadata": {},
   "outputs": [],
   "source": [
    "data = {1:2, 3:2}\n",
    "data[1]"
   ]
  },
  {
   "cell_type": "code",
   "execution_count": null,
   "id": "8d0bcfad",
   "metadata": {},
   "outputs": [],
   "source": [
    "a = [1,7,3,4,5,1,3,1,4]\n",
    "b = [[1,5,1],[2,3,1]]"
   ]
  },
  {
   "cell_type": "code",
   "execution_count": null,
   "id": "804b7eaf",
   "metadata": {},
   "outputs": [],
   "source": [
    "def solution(array, commands):\n",
    "    answer = []\n",
    "    for item in commands :\n",
    "        i,j,k = item\n",
    "        sort_array = array[i:j]\n",
    "        answer.append(sort_array[k-1])\n",
    "    return answer"
   ]
  },
  {
   "cell_type": "code",
   "execution_count": null,
   "id": "86e80485",
   "metadata": {},
   "outputs": [],
   "source": [
    "solution(a,b)"
   ]
  },
  {
   "cell_type": "code",
   "execution_count": null,
   "id": "003e82a0",
   "metadata": {},
   "outputs": [],
   "source": [
    "sum(a)"
   ]
  },
  {
   "cell_type": "code",
   "execution_count": null,
   "id": "b88780cb",
   "metadata": {},
   "outputs": [],
   "source": [
    "dict_test = {'ADAM':2 , 'MADA':4}\n",
    "print(dict_test)"
   ]
  },
  {
   "cell_type": "code",
   "execution_count": null,
   "id": "fdd2f083",
   "metadata": {},
   "outputs": [],
   "source": [
    "dict_test['ADAM'] +=1"
   ]
  },
  {
   "cell_type": "code",
   "execution_count": null,
   "id": "50f91268",
   "metadata": {},
   "outputs": [],
   "source": [
    "dict_test"
   ]
  },
  {
   "cell_type": "code",
   "execution_count": null,
   "id": "5e72dfb7",
   "metadata": {},
   "outputs": [],
   "source": [
    "a= ['a','b','c']\n",
    "adict = { j : i for i, j in enumerate(a) }\n",
    "adict"
   ]
  },
  {
   "cell_type": "code",
   "execution_count": null,
   "id": "80b99ae9",
   "metadata": {},
   "outputs": [],
   "source": [
    "adict['d'] = 2"
   ]
  },
  {
   "cell_type": "code",
   "execution_count": null,
   "id": "e0e84645",
   "metadata": {},
   "outputs": [],
   "source": [
    "adict"
   ]
  },
  {
   "cell_type": "code",
   "execution_count": null,
   "id": "e34e9715",
   "metadata": {},
   "outputs": [],
   "source": [
    "k =2\n",
    "id_list = [\"muzi\", \"frodo\", \"apeach\", \"neo\"]\n",
    "report = [\"muzi frodo\",\"apeach frodo\",\"frodo neo\",\"muzi neo\",\"apeach muzi\"]\n",
    "# report = set(report)\n",
    "# report = list(set(id_list))\n",
    "# report\n",
    "# report = [i.split(\" \") for i in list(set(report))]\n",
    "# report = [i.split(\" \") for i in report]\n",
    "\n",
    "report"
   ]
  },
  {
   "cell_type": "code",
   "execution_count": null,
   "id": "6747da25",
   "metadata": {},
   "outputs": [],
   "source": [
    "\n",
    "\n",
    "print(reporting_list)"
   ]
  },
  {
   "cell_type": "code",
   "execution_count": 171,
   "id": "cce88cef",
   "metadata": {},
   "outputs": [
    {
     "data": {
      "text/plain": [
       "[['apeach', 'frodo'],\n",
       " ['muzi', 'neo'],\n",
       " ['apeach', 'muzi'],\n",
       " ['muzi', 'frodo'],\n",
       " ['frodo', 'neo']]"
      ]
     },
     "execution_count": 171,
     "metadata": {},
     "output_type": "execute_result"
    }
   ],
   "source": [
    "report"
   ]
  },
  {
   "cell_type": "code",
   "execution_count": null,
   "id": "c81590ab",
   "metadata": {},
   "outputs": [],
   "source": [
    "def solution(id_list, report, k):\n",
    "    report = [i.split(\" \") for i in list(set(report))]\n",
    "    reported_list = {i : 0 for i in id_list}\n",
    "    reporting_list = {i : 0 for i in id_list}\n",
    "\n",
    "    for i in report :\n",
    "        x,y = i\n",
    "        reported_list[y] += 1\n",
    "\n",
    "    for i in report :\n",
    "        x,y = i\n",
    "        if reported_list[y] >= 2 :\n",
    "            reporting_list[x] += 1\n",
    "\n",
    "    answer = [v for k,v in reporting_list.items()]\n",
    "    return answer"
   ]
  },
  {
   "cell_type": "markdown",
   "id": "571b909f",
   "metadata": {},
   "source": [
    "### regex practice"
   ]
  },
  {
   "cell_type": "code",
   "execution_count": null,
   "id": "08b2728d",
   "metadata": {},
   "outputs": [],
   "source": [
    "import re"
   ]
  },
  {
   "cell_type": "code",
   "execution_count": null,
   "id": "3eb63aa1",
   "metadata": {},
   "outputs": [],
   "source": [
    "text = \"abcdefghijklmn.p\""
   ]
  },
  {
   "cell_type": "code",
   "execution_count": null,
   "id": "f620c58d",
   "metadata": {},
   "outputs": [],
   "source": [
    "text = text.lower()"
   ]
  },
  {
   "cell_type": "code",
   "execution_count": null,
   "id": "702d3c4e",
   "metadata": {},
   "outputs": [],
   "source": [
    "text = re.sub(\"[\\!\\@\\#]\",'',text)"
   ]
  },
  {
   "cell_type": "code",
   "execution_count": null,
   "id": "2865b513",
   "metadata": {},
   "outputs": [],
   "source": [
    "text = re.sub(\"[\\.]*\\.\",'.',text)"
   ]
  },
  {
   "cell_type": "code",
   "execution_count": null,
   "id": "8a562710",
   "metadata": {},
   "outputs": [],
   "source": [
    "text = re.sub(\"^\\.\",'',text)\n",
    "text = re.sub(\"\\.$\",'',text)"
   ]
  },
  {
   "cell_type": "code",
   "execution_count": null,
   "id": "078ce305",
   "metadata": {},
   "outputs": [],
   "source": [
    "text"
   ]
  },
  {
   "cell_type": "code",
   "execution_count": null,
   "id": "b647cf79",
   "metadata": {},
   "outputs": [],
   "source": [
    "text = re.findall(\".{15}\", text)[0]"
   ]
  },
  {
   "cell_type": "code",
   "execution_count": null,
   "id": "9ee84fb6",
   "metadata": {},
   "outputs": [],
   "source": [
    "len(text)"
   ]
  },
  {
   "cell_type": "code",
   "execution_count": null,
   "id": "afebfcbc",
   "metadata": {},
   "outputs": [],
   "source": [
    "text = \"sd\""
   ]
  },
  {
   "cell_type": "code",
   "execution_count": null,
   "id": "f050bf93",
   "metadata": {},
   "outputs": [],
   "source": [
    "while len(text) <= 2:\n",
    "    text = text + text[-1]"
   ]
  },
  {
   "cell_type": "code",
   "execution_count": null,
   "id": "fe95b199",
   "metadata": {},
   "outputs": [],
   "source": []
  },
  {
   "cell_type": "code",
   "execution_count": null,
   "id": "e8ee8367",
   "metadata": {},
   "outputs": [],
   "source": [
    "import re\n",
    "\n",
    "def solution(new_id):\n",
    "    \n",
    "    new_id = new_id.lower()\n",
    "    new_id = re.sub(\"[^a-zA-Z0-9\\-\\_\\.]\",'', new_id)\n",
    "    new_id = re.sub(\"[\\.]\\.*\",'.', new_id)\n",
    "    new_id = re.sub(\"^\\.\",'', new_id)\n",
    "    new_id = re.sub(\"\\.\\B\",'', new_id)\n",
    "    new_id = re.sub(\"\\s\",'a', new_id)\n",
    "    \n",
    "    if len(new_id) >= 15 :\n",
    "        new_id = new_id[:15]\n",
    "        new_id = re.sub(\"\\.\\B\",'', new_id)\n",
    "        new_id = re.sub(\"\\s\",'a', new_id)\n",
    "        \n",
    "    while len(new_id) <= 2 :\n",
    "        new_id = re.sub(\"\\s\",'a', new_id)\n",
    "        new_id = new_id + new_id[-1:]\n",
    "        \n",
    "        \n",
    "    return new_id"
   ]
  },
  {
   "cell_type": "code",
   "execution_count": null,
   "id": "d7e8077e",
   "metadata": {},
   "outputs": [],
   "source": [
    "solution(text)"
   ]
  },
  {
   "cell_type": "code",
   "execution_count": null,
   "id": "264bd3ec",
   "metadata": {},
   "outputs": [],
   "source": [
    "solution('sasssxxsxsxssxssdfsdfsfdxsx')"
   ]
  },
  {
   "cell_type": "code",
   "execution_count": null,
   "id": "f9175ee9",
   "metadata": {},
   "outputs": [],
   "source": [
    "import re \n",
    "\n",
    "def solution(s):\n",
    "    eng = ['zero','one','two','three','four','five','six','seven','eight','nine']\n",
    "    eng = {value : str(number) for number,value in enumerate(eng)}\n",
    "    answer = s\n",
    "    \n",
    "    for k,v in eng.items() :\n",
    "        answer = re.sub(k,v,answer)\n",
    "        \n",
    "    \n",
    "    return answer"
   ]
  },
  {
   "cell_type": "markdown",
   "id": "157e825c",
   "metadata": {},
   "source": [
    "# 키패드 누르기"
   ]
  },
  {
   "cell_type": "code",
   "execution_count": 82,
   "id": "d73bb464",
   "metadata": {},
   "outputs": [],
   "source": [
    "numbers = [1, 3, 4, 5, 8, 2, 1, 4, 5, 9, 5]\n",
    "status =  {'current_left' : [-1,-2],'current_right' : [1,-2], 'left' : 'L' , 'right' : 'R'}\n",
    "hand = \"right\""
   ]
  },
  {
   "cell_type": "code",
   "execution_count": 83,
   "id": "bcc091b6",
   "metadata": {},
   "outputs": [],
   "source": [
    "# keypad = {1 : (1,1,'L') , 2 : (1,2,'') , 3 : (1,3,'R'),\n",
    "#           4 : (2,1,'L') , 5 : (2,2,'') , 6 : (2,3,'R'),\n",
    "#           7 : (3,1,'L') , 8 : (3,2,'') ,  9 : (3,3,'R'),\n",
    "#           '*' : (4,1,'L') ,  0 : (4,2,'') ,  '#' : (4,3,'R')}"
   ]
  },
  {
   "cell_type": "code",
   "execution_count": 87,
   "id": "40d95589",
   "metadata": {},
   "outputs": [
    {
     "name": "stdout",
     "output_type": "stream",
     "text": [
      "LRLLLRLLRRL\n"
     ]
    }
   ],
   "source": [
    "answer = ''\n",
    "\n",
    "for i in numbers :\n",
    "    if keypad[i][2] == 'L' :\n",
    "        status['current_left'] = [keypad[i][0],keypad[i][1]]\n",
    "        answer += keypad[i][2]\n",
    "        \n",
    "    if keypad[i][2] == 'R' :\n",
    "        status['current_right'] = [keypad[i][0],keypad[i][1]]\n",
    "        answer += keypad[i][2]\n",
    "        \n",
    "    if keypad[i][2] == '':\n",
    "        if abs(status['current_left'][0] - keypad[i][0]) + abs(status['current_left'][1] - keypad[i][1]) < abs(status['current_right'][0] - keypad[i][0])  + abs(status['current_right'][1] - keypad[i][1]) :\n",
    "            status['current_left'] = [keypad[i][0],keypad[i][1]]\n",
    "            answer += 'L'\n",
    "            \n",
    "        elif abs(status['current_left'][0] - keypad[i][0]) + abs(status['current_left'][1] - keypad[i][1]) == abs(status['current_right'][0] - keypad[i][0])  + abs(status['current_right'][1] - keypad[i][1]) :\n",
    "            status['current_'+hand] = [keypad[i][0],keypad[i][1]]\n",
    "            answer += status[hand]\n",
    "                    \n",
    "        else :\n",
    "            status['current_right'] = [keypad[i][0],keypad[i][1]]\n",
    "            answer += 'R'\n",
    "\n",
    "\n",
    "print(answer)"
   ]
  },
  {
   "cell_type": "code",
   "execution_count": 85,
   "id": "81436898",
   "metadata": {},
   "outputs": [],
   "source": [
    "keypad = {1 : (-1,1,'L') , 2 : (0,1,'') , 3 : (1,1,'R'),\n",
    "          4 : (-1,0,'L') , 5 : (0,0,'') , 6 : (1,0,'R'),\n",
    "          7 : (-1,-1,'L') , 8 : (0,-1,'') ,  9 : (1,-1,'R'),\n",
    "          '*' : (-1,-2,'L') ,  0 : (0,-2,'') ,  '#' : (1,-2,'R')}"
   ]
  },
  {
   "cell_type": "code",
   "execution_count": 75,
   "id": "5e97d22f",
   "metadata": {},
   "outputs": [
    {
     "data": {
      "text/plain": [
       "'LRLLLRLLRRL'"
      ]
     },
     "execution_count": 75,
     "metadata": {},
     "output_type": "execute_result"
    }
   ],
   "source": [
    "\"LRLLLRLLRRL\""
   ]
  },
  {
   "cell_type": "code",
   "execution_count": 54,
   "id": "fa94cbbb",
   "metadata": {},
   "outputs": [
    {
     "name": "stdout",
     "output_type": "stream",
     "text": [
      "L\n",
      "R\n",
      "L\n",
      "\n",
      "\n",
      "\n",
      "L\n",
      "L\n",
      "\n",
      "R\n",
      "\n"
     ]
    }
   ],
   "source": [
    "for i in numbers :\n",
    "    print(keypad[i][2])"
   ]
  },
  {
   "cell_type": "markdown",
   "id": "0698bc1e",
   "metadata": {},
   "source": [
    "## combinations "
   ]
  },
  {
   "cell_type": "code",
   "execution_count": 113,
   "id": "8161a6e5",
   "metadata": {},
   "outputs": [
    {
     "data": {
      "text/plain": [
       "42"
      ]
     },
     "execution_count": 113,
     "metadata": {},
     "output_type": "execute_result"
    }
   ],
   "source": [
    "from itertools import combinations\n",
    "\n",
    "nums = [1,2,7,6,4]\n",
    "comb = list(combinations(nums,3))\n",
    "result = 0\n",
    "\n",
    "\n",
    "for c in comb :\n",
    "    addition = sum(c)\n",
    "    for i in range(2,addition):\n",
    "        if addition % i == 0 :\n",
    "            break\n",
    "        else :\n",
    "            result += 1\n",
    "            \n",
    "\n",
    "result"
   ]
  },
  {
   "cell_type": "code",
   "execution_count": null,
   "id": "ede2a9fa",
   "metadata": {},
   "outputs": [],
   "source": []
  },
  {
   "cell_type": "code",
   "execution_count": 129,
   "id": "a742d92b",
   "metadata": {},
   "outputs": [
    {
     "name": "stdout",
     "output_type": "stream",
     "text": [
      "***\n",
      "***\n",
      "***\n",
      "\n"
     ]
    }
   ],
   "source": [
    "print('***\\n'*3)"
   ]
  },
  {
   "cell_type": "code",
   "execution_count": 166,
   "id": "30727e68",
   "metadata": {},
   "outputs": [
    {
     "data": {
      "text/plain": [
       "['1', '2', '3']"
      ]
     },
     "execution_count": 166,
     "metadata": {},
     "output_type": "execute_result"
    }
   ],
   "source": [
    "a = 123\n",
    "list(str(a))"
   ]
  },
  {
   "cell_type": "code",
   "execution_count": 251,
   "id": "7d2c77ac",
   "metadata": {},
   "outputs": [],
   "source": [
    "a= Counter(sorted([2, 1, 2, 6, 2, 4, 3, 3]))"
   ]
  },
  {
   "cell_type": "code",
   "execution_count": 318,
   "id": "b14187ac",
   "metadata": {},
   "outputs": [],
   "source": [
    "c = [2, 1, 2, 6, 2, 4, 3, 3]\n"
   ]
  },
  {
   "cell_type": "code",
   "execution_count": 321,
   "id": "58309db5",
   "metadata": {},
   "outputs": [],
   "source": [
    "a = {i+1 : 0 for i in range(5)}\n",
    "\n",
    "for i in c :\n",
    "    if i > len(a):\n",
    "        continue\n",
    "    a[i] += 1\n",
    "\n",
    "stage = 8\n",
    "\n",
    "for i in range(1,len(a)+1):\n",
    "    x = a[i]\n",
    "    a[i] = a[i]/stage\n",
    "    stage = stage - x\n",
    "\n"
   ]
  },
  {
   "cell_type": "code",
   "execution_count": 391,
   "id": "e806eedd",
   "metadata": {},
   "outputs": [
    {
     "data": {
      "text/plain": [
       "1.5535714285714286"
      ]
     },
     "execution_count": 391,
     "metadata": {},
     "output_type": "execute_result"
    }
   ],
   "source": [
    "g = dict(sorted(a.items(), key = lambda x : x[1], reverse=True))\n",
    "sum(g.values())"
   ]
  },
  {
   "cell_type": "code",
   "execution_count": 392,
   "id": "9b304764",
   "metadata": {},
   "outputs": [
    {
     "data": {
      "text/plain": [
       "[0, 0, 0]"
      ]
     },
     "execution_count": 392,
     "metadata": {},
     "output_type": "execute_result"
    }
   ],
   "source": [
    "sorted([0,0,0])"
   ]
  },
  {
   "cell_type": "code",
   "execution_count": 244,
   "id": "c38d2e4c",
   "metadata": {},
   "outputs": [
    {
     "name": "stdout",
     "output_type": "stream",
     "text": [
      "7\n",
      "5\n",
      "2\n",
      "-2\n",
      "-8\n"
     ]
    }
   ],
   "source": [
    "for i in a :\n",
    "    stage = stage - i\n",
    "    print(stage)"
   ]
  },
  {
   "cell_type": "markdown",
   "id": "30cd9406",
   "metadata": {},
   "source": [
    "# 실패율"
   ]
  },
  {
   "cell_type": "code",
   "execution_count": 370,
   "id": "3cb782a4",
   "metadata": {
    "scrolled": true
   },
   "outputs": [],
   "source": [
    "def solution(N, stages):\n",
    "    players = len(stages)\n",
    "    \n",
    "    counter = {i+1 : 0 for i in range(N)}\n",
    "    \n",
    "    for i in stages :\n",
    "        if i > len(counter):\n",
    "            continue\n",
    "        counter[i] += 1\n",
    "    \n",
    "    for i in range(1,len(counter)+1):\n",
    "        x = counter[i]\n",
    "        counter[i] = counter[i]/players\n",
    "        players = players - x\n",
    "\n",
    "    counter = sorted(counter.items(), key = lambda x : x[1], reverse = True)\n",
    "    \n",
    "    answer = []\n",
    "    \n",
    "    for i in range(0,len(counter)) :\n",
    "        answer.append(counter[i][0])\n",
    "        \n",
    "    return answer"
   ]
  },
  {
   "cell_type": "code",
   "execution_count": 371,
   "id": "9a65952d",
   "metadata": {},
   "outputs": [],
   "source": [
    "c = [2, 1, 2, 6, 2, 4, 3, 3]"
   ]
  },
  {
   "cell_type": "code",
   "execution_count": 373,
   "id": "5da9586e",
   "metadata": {},
   "outputs": [],
   "source": [
    "counter = Counter(c)\n",
    "from collections import defaultdict"
   ]
  },
  {
   "cell_type": "code",
   "execution_count": 377,
   "id": "12070665",
   "metadata": {},
   "outputs": [
    {
     "data": {
      "text/plain": [
       "5"
      ]
     },
     "execution_count": 377,
     "metadata": {},
     "output_type": "execute_result"
    }
   ],
   "source": [
    "counter = {i+1 : 0 for i in range(5)}\n",
    "len(counter)"
   ]
  },
  {
   "cell_type": "code",
   "execution_count": 383,
   "id": "4bec68d3",
   "metadata": {},
   "outputs": [
    {
     "data": {
      "text/plain": [
       "[1, 2, 3, 4, 5]"
      ]
     },
     "execution_count": 383,
     "metadata": {},
     "output_type": "execute_result"
    }
   ],
   "source": [
    "[i for i in range(1, len(counter)+1)]"
   ]
  },
  {
   "cell_type": "code",
   "execution_count": 402,
   "id": "023fb29f",
   "metadata": {},
   "outputs": [
    {
     "data": {
      "text/plain": [
       "False"
      ]
     },
     "execution_count": 402,
     "metadata": {},
     "output_type": "execute_result"
    }
   ],
   "source": [
    "import math\n",
    "str(math.sqrt(121)).isdecimal()"
   ]
  },
  {
   "cell_type": "code",
   "execution_count": null,
   "id": "bc43635e",
   "metadata": {},
   "outputs": [],
   "source": [
    "answer = {}\n",
    "num_players = len(stages)\n",
    "\n",
    "for i in range(1, len(N)+1) :   \n",
    "    counter = stages.count(i)\n",
    "    if num_players != 0 :\n",
    "        answer[i] = counter//num_players\n",
    "        num_players = num_players - counter"
   ]
  },
  {
   "cell_type": "code",
   "execution_count": 406,
   "id": "65d40622",
   "metadata": {},
   "outputs": [
    {
     "data": {
      "text/plain": [
       "['1', '2', '3', '5']"
      ]
     },
     "execution_count": 406,
     "metadata": {},
     "output_type": "execute_result"
    }
   ],
   "source": [
    "sorted('1235')"
   ]
  },
  {
   "cell_type": "markdown",
   "id": "657ddf46",
   "metadata": {},
   "source": [
    "## set "
   ]
  },
  {
   "cell_type": "code",
   "execution_count": 417,
   "id": "5b13dcae",
   "metadata": {},
   "outputs": [
    {
     "data": {
      "text/plain": [
       "[1, 3]"
      ]
     },
     "execution_count": 417,
     "metadata": {},
     "output_type": "execute_result"
    }
   ],
   "source": [
    "n = 3\n",
    "m = 12\n",
    "a = set([i for i in range(1,n+1) if n% i == 0])\n",
    "b = set([i for i in range(1,m+1) if m % i == 0])\n",
    "c = a & b\n",
    "answer = [min(c), max(c)]\n",
    "answer"
   ]
  },
  {
   "cell_type": "markdown",
   "id": "7673ee0b",
   "metadata": {},
   "source": [
    "### dict "
   ]
  },
  {
   "cell_type": "code",
   "execution_count": 456,
   "id": "fffaedd5",
   "metadata": {},
   "outputs": [
    {
     "name": "stdout",
     "output_type": "stream",
     "text": [
      "2\n",
      "{1: 0, 2: 1, 3: 1}\n"
     ]
    }
   ],
   "source": [
    "student = {}\n",
    "\n",
    "n = 3\n",
    "lost = [1,2]\n",
    "reserve = sorted([2,3])\n",
    "\n",
    "for i in range(1,n+1) :\n",
    "    student[i] = 1\n",
    "\n",
    "\n",
    "for i in lost :\n",
    "    student[i] -= 1\n",
    "\n",
    "for i in reserve :\n",
    "    if student[i] != 0:\n",
    "        for k,v in student.items() :\n",
    "            if v == 0 and v < 2 and (i + 1 == k or i-1 == k) :\n",
    "                student[k] += 1\n",
    "                break\n",
    "    else : student[i] += 1\n",
    "\n",
    "answer = sum(student.values())\n",
    "print(answer)\n",
    "print(student)"
   ]
  },
  {
   "cell_type": "markdown",
   "id": "a6c5b06b",
   "metadata": {},
   "source": [
    "### 인형뽑기 "
   ]
  },
  {
   "cell_type": "code",
   "execution_count": 671,
   "id": "8f2093b0",
   "metadata": {},
   "outputs": [
    {
     "data": {
      "text/plain": [
       "[[0, 0, 0, 0, 0],\n",
       " [0, 0, 1, 0, 3],\n",
       " [0, 2, 5, 0, 1],\n",
       " [4, 2, 4, 4, 2],\n",
       " [3, 5, 1, 3, 1]]"
      ]
     },
     "execution_count": 671,
     "metadata": {},
     "output_type": "execute_result"
    }
   ],
   "source": [
    "board = [[0,0,0,0,0],[0,0,1,0,3],[0,2,5,0,1],[4,2,4,4,2],[3,5,1,3,1]]\n",
    "moves = [1,5,3,5,1,2,1,4]\n",
    "board"
   ]
  },
  {
   "cell_type": "code",
   "execution_count": 668,
   "id": "47a90d77",
   "metadata": {},
   "outputs": [
    {
     "data": {
      "text/plain": [
       "[[4, 3], [2, 2, 5], [1, 5, 4, 1], [4, 3], [3, 1, 2, 1]]"
      ]
     },
     "execution_count": 668,
     "metadata": {},
     "output_type": "execute_result"
    }
   ],
   "source": [
    "list(map(lambda x : list(filter(lambda y : y != 0, x )), zip(*board)))"
   ]
  },
  {
   "cell_type": "code",
   "execution_count": 655,
   "id": "5d8ed776",
   "metadata": {},
   "outputs": [
    {
     "data": {
      "text/plain": [
       "[[4, 3], [2, 2, 5], [1, 5, 4, 1], [4, 3], [3, 1, 2, 1]]"
      ]
     },
     "execution_count": 655,
     "metadata": {},
     "output_type": "execute_result"
    }
   ],
   "source": [
    "board = np.array(board)\n",
    "board = board.transpose()\n",
    "board = board.tolist()\n",
    "bo = []\n",
    "\n",
    "for i in board :\n",
    "    bo.append(list(filter(lambda x : x != 0 , i)))\n",
    "bo"
   ]
  },
  {
   "cell_type": "code",
   "execution_count": 656,
   "id": "1e660ea9",
   "metadata": {},
   "outputs": [
    {
     "name": "stdout",
     "output_type": "stream",
     "text": [
      "[[0, 0, 0, 4, 3], [0, 0, 2, 2, 5], [0, 1, 5, 4, 1], [0, 0, 0, 4, 3], [0, 3, 1, 2, 1]]\n",
      "[4, 2, 4]\n",
      "4\n"
     ]
    }
   ],
   "source": [
    "basket =[]\n",
    "answer = 0\n",
    "for i in moves :\n",
    "    if bo[i-1]:\n",
    "        basket.append(bo[i-1].pop(0))\n",
    "    if len(basket) > 1:\n",
    "        if basket[-1] == basket[-2] :\n",
    "            basket.pop()\n",
    "            basket.pop()\n",
    "            answer += 2\n",
    "        \n",
    "print(board)\n",
    "print(basket)\n",
    "print(answer)\n"
   ]
  },
  {
   "cell_type": "code",
   "execution_count": 545,
   "id": "65b61f08",
   "metadata": {},
   "outputs": [
    {
     "data": {
      "text/plain": [
       "''"
      ]
     },
     "execution_count": 545,
     "metadata": {},
     "output_type": "execute_result"
    }
   ],
   "source": [
    "[''].pop()"
   ]
  },
  {
   "cell_type": "code",
   "execution_count": 679,
   "id": "16ae110a",
   "metadata": {},
   "outputs": [
    {
     "data": {
      "text/plain": [
       "6"
      ]
     },
     "execution_count": 679,
     "metadata": {},
     "output_type": "execute_result"
    }
   ],
   "source": [
    "((30 * 5) + 24) % 7"
   ]
  },
  {
   "cell_type": "code",
   "execution_count": null,
   "id": "1299cb06",
   "metadata": {},
   "outputs": [],
   "source": []
  }
 ],
 "metadata": {
  "kernelspec": {
   "display_name": "Python 3 (ipykernel)",
   "language": "python",
   "name": "python3"
  },
  "language_info": {
   "codemirror_mode": {
    "name": "ipython",
    "version": 3
   },
   "file_extension": ".py",
   "mimetype": "text/x-python",
   "name": "python",
   "nbconvert_exporter": "python",
   "pygments_lexer": "ipython3",
   "version": "3.9.12"
  }
 },
 "nbformat": 4,
 "nbformat_minor": 5
}
