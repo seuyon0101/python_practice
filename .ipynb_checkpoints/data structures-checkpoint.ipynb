{
 "cells": [
  {
   "cell_type": "markdown",
   "id": "eb0284b5",
   "metadata": {},
   "source": [
    "# Array Operation"
   ]
  },
  {
   "cell_type": "code",
   "execution_count": null,
   "id": "d7612666",
   "metadata": {},
   "outputs": [],
   "source": [
    "array = [1,2,3,4,5]\n",
    "array.insert(0,2)\n",
    "array.remove(2)\n",
    "print(array[:2])"
   ]
  },
  {
   "cell_type": "code",
   "execution_count": null,
   "id": "2629eae2",
   "metadata": {},
   "outputs": [],
   "source": [
    "max = array[0]\n",
    "\n",
    "for num in array:\n",
    "    if num > max :\n",
    "        max = num\n",
    "print(max)"
   ]
  },
  {
   "cell_type": "code",
   "execution_count": null,
   "id": "be39652c",
   "metadata": {},
   "outputs": [],
   "source": [
    "a = [1,2,3,4,5]"
   ]
  },
  {
   "cell_type": "code",
   "execution_count": null,
   "id": "6ea02fc4",
   "metadata": {},
   "outputs": [],
   "source": [
    "def Reverse(nums):\n",
    "    start_index = 0\n",
    "    end_index = len(nums)-1\n",
    "    while end_index > start_index :\n",
    "        nums[start_index], nums[end_index] = nums[end_index], nums[start_index]\n",
    "        start_index += 1\n",
    "        end_index -= 1\n",
    "    return nums"
   ]
  },
  {
   "cell_type": "code",
   "execution_count": null,
   "id": "063378c4",
   "metadata": {},
   "outputs": [],
   "source": [
    "Reverse(a)"
   ]
  },
  {
   "cell_type": "code",
   "execution_count": null,
   "id": "9ced40ff",
   "metadata": {},
   "outputs": [],
   "source": [
    "\"hello\""
   ]
  },
  {
   "cell_type": "code",
   "execution_count": null,
   "id": "17a83eda",
   "metadata": {},
   "outputs": [],
   "source": [
    "def palindrome(s) :\n",
    "    if s == s[::-1] :\n",
    "        return True\n",
    "    else :\n",
    "        return False"
   ]
  },
  {
   "cell_type": "code",
   "execution_count": null,
   "id": "2d7f8326",
   "metadata": {},
   "outputs": [],
   "source": [
    "palindrome('mdadam')"
   ]
  },
  {
   "cell_type": "code",
   "execution_count": null,
   "id": "e8de216b",
   "metadata": {},
   "outputs": [],
   "source": [
    "def reverse_i(data):\n",
    "    string_data = str(data)\n",
    "    string_data = string_data[::-1]\n",
    "    result = int(string_data)\n",
    "    return result "
   ]
  },
  {
   "cell_type": "code",
   "execution_count": null,
   "id": "7ae78ee3",
   "metadata": {},
   "outputs": [],
   "source": [
    "reverse_i(12345)"
   ]
  },
  {
   "cell_type": "code",
   "execution_count": null,
   "id": "ac55d97d",
   "metadata": {},
   "outputs": [],
   "source": [
    "def anagram(data1, data2) :\n",
    "    original_string = sorted(list(data1))\n",
    "    comparing_string = sorted(list(data2))\n",
    "    \n",
    "    if original_string == comparing_string :\n",
    "        return True\n",
    "    else :\n",
    "        return False"
   ]
  },
  {
   "cell_type": "code",
   "execution_count": null,
   "id": "a3eb0b36",
   "metadata": {},
   "outputs": [],
   "source": [
    "anagram('hello','hellos')"
   ]
  },
  {
   "cell_type": "code",
   "execution_count": null,
   "id": "42de72dc",
   "metadata": {},
   "outputs": [],
   "source": [
    "def dutch_prob(data) :\n",
    "    s_index = 0\n",
    "    m_index = 1\n",
    "    l_index = 2 \n",
    "    \n",
    "    if data[s_index] > data[l_index] :\n",
    "        data[s_index] , data[l_index] = data[l_index] , data[s_index]\n",
    "        \n",
    "    if data[m_index] > data[l_index] :\n",
    "        data[m_index] , data[l_index] = data[l_index] , data[m_index]\n",
    "        \n",
    "    if data[s_index] > data[m_index] :\n",
    "        data[s_index] , data[m_index] = data[m_index] , data[s_index]\n",
    "        \n",
    "\n",
    "    return data"
   ]
  },
  {
   "cell_type": "code",
   "execution_count": null,
   "id": "f28ee4af",
   "metadata": {},
   "outputs": [],
   "source": [
    "data = [2,3,1]\n",
    "dutch_prob(data)"
   ]
  },
  {
   "cell_type": "code",
   "execution_count": null,
   "id": "904f3c05",
   "metadata": {},
   "outputs": [],
   "source": [
    "data = [1,0,2,1,3,1,2,0,3]"
   ]
  },
  {
   "cell_type": "code",
   "execution_count": null,
   "id": "a869f688",
   "metadata": {},
   "outputs": [],
   "source": [
    "left_max = [0 for _ in range(len(data))]\n",
    "right_max = [0 for _ in range(len(data))]"
   ]
  },
  {
   "cell_type": "code",
   "execution_count": null,
   "id": "1fdd6360",
   "metadata": {},
   "outputs": [],
   "source": [
    "for i in range(1, len(data)) :\n",
    "    left_max[i] = max(left_max[i-1], data[i-1])\n",
    "left_max"
   ]
  },
  {
   "cell_type": "code",
   "execution_count": null,
   "id": "803ec31e",
   "metadata": {},
   "outputs": [],
   "source": [
    "for i in range(len(data)-2,-1,-1) :\n",
    "    right_max[i] = max(right_max[i+1], data[i + 1])\n",
    "\n",
    "right_max"
   ]
  },
  {
   "cell_type": "code",
   "execution_count": null,
   "id": "5ea9a492",
   "metadata": {},
   "outputs": [],
   "source": [
    "result = []\n",
    "for i in range(0,len(data)-1):\n",
    "    a = min(left_max[i], right_max[i]) - data[i]\n",
    "    if a > 0 :\n",
    "        result.append(a)\n",
    "    else :\n",
    "        result.append(0)\n",
    "result"
   ]
  },
  {
   "cell_type": "code",
   "execution_count": null,
   "id": "a70f213e",
   "metadata": {},
   "outputs": [],
   "source": [
    "data = {1:2, 3:2}\n",
    "data[1]"
   ]
  },
  {
   "cell_type": "code",
   "execution_count": null,
   "id": "8e7f311c",
   "metadata": {},
   "outputs": [],
   "source": [
    "a = [1,7,3,4,5,1,3,1,4]\n",
    "b = [[1,5,1],[2,3,1]]"
   ]
  },
  {
   "cell_type": "code",
   "execution_count": null,
   "id": "aefa250d",
   "metadata": {},
   "outputs": [],
   "source": [
    "def solution(array, commands):\n",
    "    answer = []\n",
    "    for item in commands :\n",
    "        i,j,k = item\n",
    "        sort_array = array[i:j]\n",
    "        answer.append(sort_array[k-1])\n",
    "    return answer"
   ]
  },
  {
   "cell_type": "code",
   "execution_count": null,
   "id": "6788784b",
   "metadata": {},
   "outputs": [],
   "source": [
    "solution(a,b)"
   ]
  },
  {
   "cell_type": "code",
   "execution_count": null,
   "id": "e0d3646a",
   "metadata": {},
   "outputs": [],
   "source": [
    "sum(a)"
   ]
  },
  {
   "cell_type": "code",
   "execution_count": null,
   "id": "2d00fb7a",
   "metadata": {},
   "outputs": [],
   "source": [
    "dict_test = {'ADAM':2 , 'MADA':4}\n",
    "print(dict_test)"
   ]
  },
  {
   "cell_type": "code",
   "execution_count": null,
   "id": "d5aec026",
   "metadata": {},
   "outputs": [],
   "source": [
    "dict_test['ADAM'] +=1"
   ]
  },
  {
   "cell_type": "code",
   "execution_count": null,
   "id": "0147675c",
   "metadata": {},
   "outputs": [],
   "source": [
    "dict_test"
   ]
  },
  {
   "cell_type": "code",
   "execution_count": 197,
   "id": "431e016f",
   "metadata": {},
   "outputs": [
    {
     "data": {
      "text/plain": [
       "{'a': 0, 'b': 1, 'c': 2}"
      ]
     },
     "execution_count": 197,
     "metadata": {},
     "output_type": "execute_result"
    }
   ],
   "source": [
    "a= ['a','b','c']\n",
    "adict = { j : i for i, j in enumerate(a) }\n",
    "adict"
   ]
  },
  {
   "cell_type": "code",
   "execution_count": 200,
   "id": "c40b4dd8",
   "metadata": {},
   "outputs": [],
   "source": [
    "adict['d'] = 2"
   ]
  },
  {
   "cell_type": "code",
   "execution_count": 201,
   "id": "79fa7e58",
   "metadata": {},
   "outputs": [
    {
     "data": {
      "text/plain": [
       "{'a': 0, 'b': 1, 'c': 2, 'd': 2}"
      ]
     },
     "execution_count": 201,
     "metadata": {},
     "output_type": "execute_result"
    }
   ],
   "source": [
    "adict"
   ]
  },
  {
   "cell_type": "code",
   "execution_count": 206,
   "id": "a0a1e8a6",
   "metadata": {},
   "outputs": [
    {
     "data": {
      "text/plain": [
       "['muzi frodo', 'apeach frodo', 'frodo neo', 'muzi neo', 'apeach muzi']"
      ]
     },
     "execution_count": 206,
     "metadata": {},
     "output_type": "execute_result"
    }
   ],
   "source": [
    "k =2\n",
    "id_list = [\"muzi\", \"frodo\", \"apeach\", \"neo\"]\n",
    "report = [\"muzi frodo\",\"apeach frodo\",\"frodo neo\",\"muzi neo\",\"apeach muzi\"]\n",
    "# report = set(report)\n",
    "# report = list(set(id_list))\n",
    "# report\n",
    "# report = [i.split(\" \") for i in list(set(report))]\n",
    "# report = [i.split(\" \") for i in report]\n",
    "\n",
    "report"
   ]
  },
  {
   "cell_type": "code",
   "execution_count": 207,
   "id": "7d0e80c2",
   "metadata": {},
   "outputs": [
    {
     "name": "stdout",
     "output_type": "stream",
     "text": [
      "{'muzi': 2, 'frodo': 1, 'apeach': 1, 'neo': 0}\n"
     ]
    }
   ],
   "source": [
    "\n",
    "\n",
    "print(reporting_list)"
   ]
  },
  {
   "cell_type": "code",
   "execution_count": 73,
   "id": "ec004293",
   "metadata": {},
   "outputs": [],
   "source": [
    "def solution(id_list, report, k):\n",
    "    report = [i.split(\" \") for i in list(set(report))]\n",
    "    reported_list = {i : 0 for i in id_list}\n",
    "    reporting_list = {i : 0 for i in id_list}\n",
    "\n",
    "    for i in report :\n",
    "        x,y = i\n",
    "        reported_list[y] += 1\n",
    "\n",
    "    for i in report :\n",
    "        x,y = i\n",
    "        if reported_list[y] >= 2 :\n",
    "            reporting_list[x] += 1\n",
    "\n",
    "    answer = [v for k,v in reporting_list.items()]\n",
    "    return answer"
   ]
  },
  {
   "cell_type": "markdown",
   "id": "6e67c301",
   "metadata": {},
   "source": [
    "### regex practice"
   ]
  },
  {
   "cell_type": "code",
   "execution_count": 305,
   "id": "6188d743",
   "metadata": {},
   "outputs": [],
   "source": [
    "import re"
   ]
  },
  {
   "cell_type": "code",
   "execution_count": 383,
   "id": "b8798d4d",
   "metadata": {},
   "outputs": [],
   "source": [
    "text = \"abcdefghijklmn.p\""
   ]
  },
  {
   "cell_type": "code",
   "execution_count": 307,
   "id": "613679d9",
   "metadata": {},
   "outputs": [],
   "source": [
    "text = text.lower()"
   ]
  },
  {
   "cell_type": "code",
   "execution_count": 308,
   "id": "df8b7151",
   "metadata": {},
   "outputs": [],
   "source": [
    "text = re.sub(\"[\\!\\@\\#]\",'',text)"
   ]
  },
  {
   "cell_type": "code",
   "execution_count": 309,
   "id": "cb729019",
   "metadata": {},
   "outputs": [],
   "source": [
    "text = re.sub(\"[\\.]*\\.\",'.',text)"
   ]
  },
  {
   "cell_type": "code",
   "execution_count": 310,
   "id": "7098976b",
   "metadata": {},
   "outputs": [],
   "source": [
    "text = re.sub(\"^\\.\",'',text)\n",
    "text = re.sub(\"\\.$\",'',text)"
   ]
  },
  {
   "cell_type": "code",
   "execution_count": 311,
   "id": "6e281912",
   "metadata": {},
   "outputs": [
    {
     "data": {
      "text/plain": [
       "'bat*.y.abcdefghijklm'"
      ]
     },
     "execution_count": 311,
     "metadata": {},
     "output_type": "execute_result"
    }
   ],
   "source": [
    "text"
   ]
  },
  {
   "cell_type": "code",
   "execution_count": 312,
   "id": "aeb4cec6",
   "metadata": {},
   "outputs": [],
   "source": [
    "text = re.findall(\".{15}\", text)[0]"
   ]
  },
  {
   "cell_type": "code",
   "execution_count": 313,
   "id": "3db4b066",
   "metadata": {},
   "outputs": [
    {
     "data": {
      "text/plain": [
       "15"
      ]
     },
     "execution_count": 313,
     "metadata": {},
     "output_type": "execute_result"
    }
   ],
   "source": [
    "len(text)"
   ]
  },
  {
   "cell_type": "code",
   "execution_count": 323,
   "id": "5f7c586a",
   "metadata": {},
   "outputs": [],
   "source": [
    "text = \"sd\""
   ]
  },
  {
   "cell_type": "code",
   "execution_count": 324,
   "id": "f593abe4",
   "metadata": {},
   "outputs": [],
   "source": [
    "while len(text) <= 2:\n",
    "    text = text + text[-1]"
   ]
  },
  {
   "cell_type": "code",
   "execution_count": 325,
   "id": "a66ed3ec",
   "metadata": {},
   "outputs": [
    {
     "data": {
      "text/plain": [
       "'sdd'"
      ]
     },
     "execution_count": 325,
     "metadata": {},
     "output_type": "execute_result"
    }
   ],
   "source": []
  },
  {
   "cell_type": "code",
   "execution_count": 402,
   "id": "d8a52e81",
   "metadata": {},
   "outputs": [],
   "source": [
    "import re\n",
    "\n",
    "def solution(new_id):\n",
    "    new_id = new_id.lower()\n",
    "    new_id = re.sub(\"[^a-zA-Z0-9\\-\\_\\.]\",'', new_id)\n",
    "    new_id = re.sub(\"[\\.]\\.*\",'.', new_id)\n",
    "    new_id = re.sub(\"\\.\\B\",'', new_id)\n",
    "    new_id = re.sub(\"\\s\",'a', new_id)\n",
    "    \n",
    "    if len(new_id) > 15 :\n",
    "        new_id = re.findall(\".{15}\", new_id)[0]\n",
    "\n",
    "    while len(new_id) <= 2:\n",
    "        new_id = new_id + new_id[-1]\n",
    "    \n",
    "    answer = new_id\n",
    "    return answer"
   ]
  },
  {
   "cell_type": "code",
   "execution_count": 403,
   "id": "1cf430ff",
   "metadata": {},
   "outputs": [
    {
     "data": {
      "text/plain": [
       "'abcdefghijklmn.'"
      ]
     },
     "execution_count": 403,
     "metadata": {},
     "output_type": "execute_result"
    }
   ],
   "source": [
    "solution(text)"
   ]
  },
  {
   "cell_type": "code",
   "execution_count": 404,
   "id": "9f18ab29",
   "metadata": {},
   "outputs": [
    {
     "data": {
      "text/plain": [
       "'sss'"
      ]
     },
     "execution_count": 404,
     "metadata": {},
     "output_type": "execute_result"
    }
   ],
   "source": [
    "solution('sasss')"
   ]
  },
  {
   "cell_type": "code",
   "execution_count": null,
   "id": "71a09215",
   "metadata": {},
   "outputs": [],
   "source": []
  }
 ],
 "metadata": {
  "kernelspec": {
   "display_name": "Python 3 (ipykernel)",
   "language": "python",
   "name": "python3"
  },
  "language_info": {
   "codemirror_mode": {
    "name": "ipython",
    "version": 3
   },
   "file_extension": ".py",
   "mimetype": "text/x-python",
   "name": "python",
   "nbconvert_exporter": "python",
   "pygments_lexer": "ipython3",
   "version": "3.9.12"
  }
 },
 "nbformat": 4,
 "nbformat_minor": 5
}
