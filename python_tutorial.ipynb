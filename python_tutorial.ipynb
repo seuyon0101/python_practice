{
 "cells": [
  {
   "cell_type": "code",
   "execution_count": 1,
   "id": "c459848e",
   "metadata": {},
   "outputs": [],
   "source": [
    "from collections import namedtuple"
   ]
  },
  {
   "cell_type": "code",
   "execution_count": 2,
   "id": "ba2ca4c2",
   "metadata": {},
   "outputs": [],
   "source": [
    "Point = namedtuple('Point',['x','y'])"
   ]
  },
  {
   "cell_type": "code",
   "execution_count": 3,
   "id": "58ae1ef6",
   "metadata": {},
   "outputs": [],
   "source": [
    "p = Point(11,22)"
   ]
  },
  {
   "cell_type": "code",
   "execution_count": 4,
   "id": "b98b9fa3",
   "metadata": {},
   "outputs": [
    {
     "name": "stdout",
     "output_type": "stream",
     "text": [
      "Point(x=11, y=22)\n"
     ]
    }
   ],
   "source": [
    "print(p)"
   ]
  },
  {
   "cell_type": "code",
   "execution_count": 5,
   "id": "fc96388c",
   "metadata": {},
   "outputs": [
    {
     "data": {
      "text/plain": [
       "__main__.Point"
      ]
     },
     "execution_count": 5,
     "metadata": {},
     "output_type": "execute_result"
    }
   ],
   "source": [
    "Point"
   ]
  },
  {
   "cell_type": "markdown",
   "id": "764e61a5",
   "metadata": {},
   "source": [
    "# pythonic code"
   ]
  },
  {
   "cell_type": "markdown",
   "id": "2b286184",
   "metadata": {},
   "source": [
    "## join/split "
   ]
  },
  {
   "cell_type": "code",
   "execution_count": 11,
   "id": "acf42fce",
   "metadata": {},
   "outputs": [
    {
     "data": {
      "text/plain": [
       "'redbluegreen'"
      ]
     },
     "execution_count": 11,
     "metadata": {},
     "output_type": "execute_result"
    }
   ],
   "source": [
    "colors = ['red','blue','green']\n",
    "result = ''\n",
    "for s in colors :\n",
    "    result += s\n",
    "result"
   ]
  },
  {
   "cell_type": "code",
   "execution_count": 12,
   "id": "856eb875",
   "metadata": {},
   "outputs": [
    {
     "data": {
      "text/plain": [
       "'redbluegreen'"
      ]
     },
     "execution_count": 12,
     "metadata": {},
     "output_type": "execute_result"
    }
   ],
   "source": [
    "colors = ['red','blue','green']\n",
    "result = ''.join(colors)\n",
    "result"
   ]
  },
  {
   "cell_type": "code",
   "execution_count": 13,
   "id": "d41d30d8",
   "metadata": {},
   "outputs": [
    {
     "data": {
      "text/plain": [
       "['my', 'name', 'is', 'seungyong']"
      ]
     },
     "execution_count": 13,
     "metadata": {},
     "output_type": "execute_result"
    }
   ],
   "source": [
    "example = \"my name is seungyong\"\n",
    "result = example.split()\n",
    "result"
   ]
  },
  {
   "cell_type": "markdown",
   "id": "187749b5",
   "metadata": {},
   "source": [
    "## list "
   ]
  },
  {
   "cell_type": "code",
   "execution_count": 17,
   "id": "67941905",
   "metadata": {},
   "outputs": [
    {
     "data": {
      "text/plain": [
       "[0, 2, 4, 6, 8]"
      ]
     },
     "execution_count": 17,
     "metadata": {},
     "output_type": "execute_result"
    }
   ],
   "source": [
    "list_example = [i for i in range(10) if i % 2 == 0]\n",
    "list_example"
   ]
  },
  {
   "cell_type": "code",
   "execution_count": 45,
   "id": "c998487a",
   "metadata": {},
   "outputs": [
    {
     "data": {
      "text/plain": [
       "['hw',\n",
       " 'ho',\n",
       " 'hr',\n",
       " 'hd',\n",
       " 'ew',\n",
       " 'eo',\n",
       " 'er',\n",
       " 'ed',\n",
       " 'lw',\n",
       " 'lo',\n",
       " 'lr',\n",
       " 'ld',\n",
       " 'lw',\n",
       " 'lo',\n",
       " 'lr',\n",
       " 'ld',\n",
       " 'ow',\n",
       " 'oo',\n",
       " 'or',\n",
       " 'od']"
      ]
     },
     "execution_count": 45,
     "metadata": {},
     "output_type": "execute_result"
    }
   ],
   "source": [
    "word_1 = \"hello\"\n",
    "word_2 = \"world\"\n",
    "result = [i+j for i in word_1 for j in word_2 if not(j=='l')]\n",
    "result"
   ]
  },
  {
   "cell_type": "code",
   "execution_count": 27,
   "id": "9d5cd1c7",
   "metadata": {},
   "outputs": [
    {
     "data": {
      "text/plain": [
       "['The', 'quick', 'brown', 'fox', 'jumps', 'over', 'the', 'lazy', 'dog']"
      ]
     },
     "execution_count": 27,
     "metadata": {},
     "output_type": "execute_result"
    }
   ],
   "source": [
    "words = 'The quick brown fox jumps over the lazy dog'.split()\n",
    "words"
   ]
  },
  {
   "cell_type": "code",
   "execution_count": 28,
   "id": "957a952c",
   "metadata": {},
   "outputs": [],
   "source": [
    "case_1 = ['a','b','c']\n",
    "case_2 = ['c','d','b']"
   ]
  },
  {
   "cell_type": "code",
   "execution_count": 43,
   "id": "25c47e61",
   "metadata": {},
   "outputs": [
    {
     "data": {
      "text/plain": [
       "[['ca', 'cb', 'cc'], ['da', 'db', 'dc'], ['ba', 'bb', 'bc']]"
      ]
     },
     "execution_count": 43,
     "metadata": {},
     "output_type": "execute_result"
    }
   ],
   "source": [
    "result = [[j + i for i in case_1] for j in case_2]\n",
    "result"
   ]
  },
  {
   "cell_type": "markdown",
   "id": "664863d5",
   "metadata": {},
   "source": [
    "## enumerate/zip "
   ]
  },
  {
   "cell_type": "code",
   "execution_count": 41,
   "id": "a00b4534",
   "metadata": {},
   "outputs": [
    {
     "name": "stdout",
     "output_type": "stream",
     "text": [
      "    0      \t tic\n",
      "    1      \t tac\n",
      "    2      \t toe\n"
     ]
    }
   ],
   "source": [
    "for i, v in enumerate(['tic', 'tac','toe']):\n",
    "    print(f\"{i:^10} \\t {v}\")"
   ]
  },
  {
   "cell_type": "code",
   "execution_count": 47,
   "id": "42c10e71",
   "metadata": {},
   "outputs": [
    {
     "data": {
      "text/plain": [
       "{0: 'H',\n",
       " 1: 'E',\n",
       " 2: 'L',\n",
       " 3: 'L',\n",
       " 4: 'O',\n",
       " 5: ' ',\n",
       " 6: 'W',\n",
       " 7: 'O',\n",
       " 8: 'R',\n",
       " 9: 'L',\n",
       " 10: 'D'}"
      ]
     },
     "execution_count": 47,
     "metadata": {},
     "output_type": "execute_result"
    }
   ],
   "source": [
    "my_string = \"HELLO WORLD\"\n",
    "{i:v for i,v in enumerate(my_string)}"
   ]
  },
  {
   "cell_type": "code",
   "execution_count": 48,
   "id": "04c05c25",
   "metadata": {},
   "outputs": [],
   "source": [
    "a_list = ['a','b','c']\n",
    "b_list = ['d','e','f']"
   ]
  },
  {
   "cell_type": "code",
   "execution_count": 50,
   "id": "93d3ef28",
   "metadata": {},
   "outputs": [
    {
     "name": "stdout",
     "output_type": "stream",
     "text": [
      "ad\n",
      "be\n",
      "cf\n"
     ]
    }
   ],
   "source": [
    "for a,b in zip(a_list, b_list) :\n",
    "    print(a+b)"
   ]
  },
  {
   "cell_type": "code",
   "execution_count": 51,
   "id": "7066eee3",
   "metadata": {},
   "outputs": [
    {
     "name": "stdout",
     "output_type": "stream",
     "text": [
      "('a', 'd')\n",
      "('b', 'e')\n",
      "('c', 'f')\n"
     ]
    }
   ],
   "source": [
    "for c in zip(a_list, b_list) :\n",
    "    print(c)"
   ]
  },
  {
   "cell_type": "code",
   "execution_count": 52,
   "id": "048efd3e",
   "metadata": {},
   "outputs": [],
   "source": [
    "math = (100,80,90)\n",
    "science = (90,92,90)\n",
    "english = (99,93,99)"
   ]
  },
  {
   "cell_type": "code",
   "execution_count": 54,
   "id": "1b84b465",
   "metadata": {},
   "outputs": [
    {
     "data": {
      "text/plain": [
       "[96.33333333333333, 88.33333333333333, 93.0]"
      ]
     },
     "execution_count": 54,
     "metadata": {},
     "output_type": "execute_result"
    }
   ],
   "source": [
    "[sum(value)/3 for value in zip(math,science,english)]"
   ]
  },
  {
   "cell_type": "markdown",
   "id": "3f6d7a01",
   "metadata": {},
   "source": [
    "## lambda/map/reduce "
   ]
  },
  {
   "cell_type": "code",
   "execution_count": 61,
   "id": "0188bdec",
   "metadata": {},
   "outputs": [
    {
     "data": {
      "text/plain": [
       "5"
      ]
     },
     "execution_count": 61,
     "metadata": {},
     "output_type": "execute_result"
    }
   ],
   "source": [
    "def f(x,y):\n",
    "    return(x+y)\n",
    "f(2,3)"
   ]
  },
  {
   "cell_type": "code",
   "execution_count": 71,
   "id": "b5aba228",
   "metadata": {},
   "outputs": [],
   "source": [
    "x1 = lambda x :x+5"
   ]
  },
  {
   "cell_type": "code",
   "execution_count": 66,
   "id": "37187540",
   "metadata": {},
   "outputs": [
    {
     "data": {
      "text/plain": [
       "6"
      ]
     },
     "execution_count": 66,
     "metadata": {},
     "output_type": "execute_result"
    }
   ],
   "source": [
    "x1(1,5) #lambda 권장하지 않음 python 3 부터"
   ]
  },
  {
   "cell_type": "code",
   "execution_count": 67,
   "id": "fb6b19cc",
   "metadata": {},
   "outputs": [],
   "source": [
    "list_1 = [1,2,3,4]"
   ]
  },
  {
   "cell_type": "code",
   "execution_count": 72,
   "id": "c6918fc6",
   "metadata": {},
   "outputs": [
    {
     "data": {
      "text/plain": [
       "[6, 7, 8, 9]"
      ]
     },
     "execution_count": 72,
     "metadata": {},
     "output_type": "execute_result"
    }
   ],
   "source": [
    "list(map(x1,list_1))"
   ]
  },
  {
   "cell_type": "code",
   "execution_count": 73,
   "id": "4b5ba81e",
   "metadata": {},
   "outputs": [
    {
     "data": {
      "text/plain": [
       "[6, 7, 8, 9]"
      ]
     },
     "execution_count": 73,
     "metadata": {},
     "output_type": "execute_result"
    }
   ],
   "source": [
    "[x1(value) for value in list_1]"
   ]
  },
  {
   "cell_type": "markdown",
   "id": "a2534615",
   "metadata": {},
   "source": [
    "## iterable objects "
   ]
  },
  {
   "cell_type": "code",
   "execution_count": 74,
   "id": "cee16b2e",
   "metadata": {},
   "outputs": [],
   "source": [
    "# __iter__ and __next__\n",
    "cities = ['Seoul','Guatemala','HongKong']\n",
    "memory_address_cities = iter(cities)"
   ]
  },
  {
   "cell_type": "code",
   "execution_count": 75,
   "id": "87d5e41e",
   "metadata": {},
   "outputs": [
    {
     "data": {
      "text/plain": [
       "'Seoul'"
      ]
     },
     "execution_count": 75,
     "metadata": {},
     "output_type": "execute_result"
    }
   ],
   "source": [
    "next(memory_address_cities)"
   ]
  },
  {
   "cell_type": "code",
   "execution_count": 76,
   "id": "c3d81002",
   "metadata": {},
   "outputs": [],
   "source": [
    "#generators"
   ]
  },
  {
   "cell_type": "code",
   "execution_count": 77,
   "id": "15f96af8",
   "metadata": {},
   "outputs": [],
   "source": [
    "gen_ex = (n for n in range(100))"
   ]
  },
  {
   "cell_type": "code",
   "execution_count": 78,
   "id": "07291fad",
   "metadata": {},
   "outputs": [
    {
     "data": {
      "text/plain": [
       "generator"
      ]
     },
     "execution_count": 78,
     "metadata": {},
     "output_type": "execute_result"
    }
   ],
   "source": [
    "type(gen_ex)"
   ]
  },
  {
   "cell_type": "code",
   "execution_count": 79,
   "id": "fbfb234d",
   "metadata": {},
   "outputs": [
    {
     "data": {
      "text/plain": [
       "<generator object <genexpr> at 0x7fa8e5776040>"
      ]
     },
     "execution_count": 79,
     "metadata": {},
     "output_type": "execute_result"
    }
   ],
   "source": [
    "gen_ex"
   ]
  },
  {
   "cell_type": "code",
   "execution_count": 80,
   "id": "aaf694ec",
   "metadata": {},
   "outputs": [
    {
     "data": {
      "text/plain": [
       "[0,\n",
       " 1,\n",
       " 2,\n",
       " 3,\n",
       " 4,\n",
       " 5,\n",
       " 6,\n",
       " 7,\n",
       " 8,\n",
       " 9,\n",
       " 10,\n",
       " 11,\n",
       " 12,\n",
       " 13,\n",
       " 14,\n",
       " 15,\n",
       " 16,\n",
       " 17,\n",
       " 18,\n",
       " 19,\n",
       " 20,\n",
       " 21,\n",
       " 22,\n",
       " 23,\n",
       " 24,\n",
       " 25,\n",
       " 26,\n",
       " 27,\n",
       " 28,\n",
       " 29,\n",
       " 30,\n",
       " 31,\n",
       " 32,\n",
       " 33,\n",
       " 34,\n",
       " 35,\n",
       " 36,\n",
       " 37,\n",
       " 38,\n",
       " 39,\n",
       " 40,\n",
       " 41,\n",
       " 42,\n",
       " 43,\n",
       " 44,\n",
       " 45,\n",
       " 46,\n",
       " 47,\n",
       " 48,\n",
       " 49,\n",
       " 50,\n",
       " 51,\n",
       " 52,\n",
       " 53,\n",
       " 54,\n",
       " 55,\n",
       " 56,\n",
       " 57,\n",
       " 58,\n",
       " 59,\n",
       " 60,\n",
       " 61,\n",
       " 62,\n",
       " 63,\n",
       " 64,\n",
       " 65,\n",
       " 66,\n",
       " 67,\n",
       " 68,\n",
       " 69,\n",
       " 70,\n",
       " 71,\n",
       " 72,\n",
       " 73,\n",
       " 74,\n",
       " 75,\n",
       " 76,\n",
       " 77,\n",
       " 78,\n",
       " 79,\n",
       " 80,\n",
       " 81,\n",
       " 82,\n",
       " 83,\n",
       " 84,\n",
       " 85,\n",
       " 86,\n",
       " 87,\n",
       " 88,\n",
       " 89,\n",
       " 90,\n",
       " 91,\n",
       " 92,\n",
       " 93,\n",
       " 94,\n",
       " 95,\n",
       " 96,\n",
       " 97,\n",
       " 98,\n",
       " 99]"
      ]
     },
     "execution_count": 80,
     "metadata": {},
     "output_type": "execute_result"
    }
   ],
   "source": [
    "list(gen_ex)"
   ]
  },
  {
   "cell_type": "markdown",
   "id": "6ac31410",
   "metadata": {},
   "source": [
    "## function arguments"
   ]
  },
  {
   "cell_type": "code",
   "execution_count": 81,
   "id": "cd9e5c15",
   "metadata": {},
   "outputs": [],
   "source": [
    "#keyword arguments"
   ]
  },
  {
   "cell_type": "code",
   "execution_count": 82,
   "id": "809c7b23",
   "metadata": {},
   "outputs": [],
   "source": [
    "def print_name(my_name,your_name):\n",
    "    print(f\"my name is {my_name}, your name is {your_name}\")"
   ]
  },
  {
   "cell_type": "code",
   "execution_count": 84,
   "id": "28b681b2",
   "metadata": {},
   "outputs": [
    {
     "name": "stdout",
     "output_type": "stream",
     "text": [
      "my name is seungYOng, your name is Joseph\n"
     ]
    }
   ],
   "source": [
    "print_name(my_name = \"seungYOng\", your_name =\"Joseph\")"
   ]
  },
  {
   "cell_type": "code",
   "execution_count": 85,
   "id": "c676510f",
   "metadata": {},
   "outputs": [],
   "source": [
    "#default argument"
   ]
  },
  {
   "cell_type": "code",
   "execution_count": 86,
   "id": "46bbd03a",
   "metadata": {},
   "outputs": [],
   "source": [
    "def print_name(my_name,your_name = \"Holland\"):\n",
    "    print(f\"my name is {my_name}, your name is {your_name}\")"
   ]
  },
  {
   "cell_type": "code",
   "execution_count": 88,
   "id": "b55ba5b6",
   "metadata": {},
   "outputs": [
    {
     "name": "stdout",
     "output_type": "stream",
     "text": [
      "my name is seungYon, your name is joseph\n"
     ]
    }
   ],
   "source": [
    "print_name(\"seungYon\", \"joseph\")"
   ]
  },
  {
   "cell_type": "markdown",
   "id": "7a972719",
   "metadata": {},
   "source": [
    "## variable-length asterisk "
   ]
  },
  {
   "cell_type": "code",
   "execution_count": 99,
   "id": "0166cbd9",
   "metadata": {},
   "outputs": [],
   "source": [
    "# *args"
   ]
  },
  {
   "cell_type": "code",
   "execution_count": 158,
   "id": "e63c51fd",
   "metadata": {},
   "outputs": [],
   "source": [
    "def sum_arg(a,b,*args):\n",
    "    print(a+b+sum(args))"
   ]
  },
  {
   "cell_type": "code",
   "execution_count": 159,
   "id": "516bdb36",
   "metadata": {},
   "outputs": [
    {
     "name": "stdout",
     "output_type": "stream",
     "text": [
      "20\n"
     ]
    }
   ],
   "source": [
    "sum_arg(1,2,3,4+10)"
   ]
  },
  {
   "cell_type": "code",
   "execution_count": 102,
   "id": "f4a43352",
   "metadata": {},
   "outputs": [],
   "source": [
    "# ** kwargs"
   ]
  },
  {
   "cell_type": "code",
   "execution_count": 136,
   "id": "3e018cf8",
   "metadata": {},
   "outputs": [],
   "source": [
    "def sum_kwarg(a,b,**kwargs):\n",
    "    print(a+b +sum(list(kwargs.values())))"
   ]
  },
  {
   "cell_type": "code",
   "execution_count": 137,
   "id": "1bd311c0",
   "metadata": {},
   "outputs": [
    {
     "name": "stdout",
     "output_type": "stream",
     "text": [
      "7\n"
     ]
    }
   ],
   "source": [
    "sum_kwarg(1,2,one=1,two=3)"
   ]
  },
  {
   "cell_type": "code",
   "execution_count": 138,
   "id": "66ea180d",
   "metadata": {},
   "outputs": [],
   "source": [
    "# unpacking container"
   ]
  },
  {
   "cell_type": "code",
   "execution_count": 177,
   "id": "d1092bb7",
   "metadata": {},
   "outputs": [],
   "source": [
    "def ask_test(a,b,*args):\n",
    "    print(a,b,*args)"
   ]
  },
  {
   "cell_type": "code",
   "execution_count": 178,
   "id": "b22192d5",
   "metadata": {},
   "outputs": [],
   "source": [
    "test = (3,4,5)"
   ]
  },
  {
   "cell_type": "code",
   "execution_count": 179,
   "id": "da3afc36",
   "metadata": {},
   "outputs": [
    {
     "name": "stdout",
     "output_type": "stream",
     "text": [
      "1 2 3 4 5\n"
     ]
    }
   ],
   "source": [
    "ask_test(1,2,*test)"
   ]
  },
  {
   "cell_type": "code",
   "execution_count": 193,
   "id": "4de48525",
   "metadata": {},
   "outputs": [],
   "source": [
    "data = ([1,2] ,[3,4])\n",
    "a, b = data"
   ]
  },
  {
   "cell_type": "code",
   "execution_count": 194,
   "id": "c6f0e8bd",
   "metadata": {},
   "outputs": [
    {
     "name": "stdout",
     "output_type": "stream",
     "text": [
      "[1, 2] [3, 4]\n"
     ]
    }
   ],
   "source": [
    "print(a,b)"
   ]
  },
  {
   "cell_type": "code",
   "execution_count": 198,
   "id": "119eb81b",
   "metadata": {},
   "outputs": [
    {
     "name": "stdout",
     "output_type": "stream",
     "text": [
      "4\n",
      "6\n"
     ]
    }
   ],
   "source": [
    "for value in zip(*data) :\n",
    "    print(sum(value))"
   ]
  },
  {
   "cell_type": "code",
   "execution_count": 206,
   "id": "ae044e4b",
   "metadata": {},
   "outputs": [
    {
     "data": {
      "text/plain": [
       "'#you #only #live'"
      ]
     },
     "execution_count": 206,
     "metadata": {},
     "output_type": "execute_result"
    }
   ],
   "source": [
    "string = \"#you #only #live\"\n",
    "string.rstrip(\"#\")"
   ]
  },
  {
   "cell_type": "code",
   "execution_count": 209,
   "id": "7e3ee9e5",
   "metadata": {},
   "outputs": [],
   "source": [
    "a,b,*c = (1,2,3,4,5,6)"
   ]
  },
  {
   "cell_type": "code",
   "execution_count": 210,
   "id": "52a9ffc5",
   "metadata": {},
   "outputs": [
    {
     "data": {
      "text/plain": [
       "[3, 4, 5, 6]"
      ]
     },
     "execution_count": 210,
     "metadata": {},
     "output_type": "execute_result"
    }
   ],
   "source": [
    "c"
   ]
  },
  {
   "cell_type": "code",
   "execution_count": null,
   "id": "7120ee46",
   "metadata": {},
   "outputs": [],
   "source": []
  }
 ],
 "metadata": {
  "kernelspec": {
   "display_name": "Python 3 (ipykernel)",
   "language": "python",
   "name": "python3"
  },
  "language_info": {
   "codemirror_mode": {
    "name": "ipython",
    "version": 3
   },
   "file_extension": ".py",
   "mimetype": "text/x-python",
   "name": "python",
   "nbconvert_exporter": "python",
   "pygments_lexer": "ipython3",
   "version": "3.9.12"
  }
 },
 "nbformat": 4,
 "nbformat_minor": 5
}
