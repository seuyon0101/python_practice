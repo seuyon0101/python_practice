{
 "cells": [
  {
   "cell_type": "markdown",
   "id": "206fc799",
   "metadata": {},
   "source": [
    "### 두 정수 사이의 합"
   ]
  },
  {
   "cell_type": "code",
   "execution_count": 2,
   "id": "826fc375",
   "metadata": {},
   "outputs": [
    {
     "name": "stdout",
     "output_type": "stream",
     "text": [
      "0\n"
     ]
    }
   ],
   "source": [
    "#Reversed\n",
    "a= 5\n",
    "b =3\n",
    "answer = sum([i for i in range(b,a-1,-1)])\n",
    "print(answer)"
   ]
  },
  {
   "cell_type": "code",
   "execution_count": 6,
   "id": "43da08b0",
   "metadata": {},
   "outputs": [
    {
     "data": {
      "text/plain": [
       "[5, 4]"
      ]
     },
     "execution_count": 6,
     "metadata": {},
     "output_type": "execute_result"
    }
   ],
   "source": [
    "[i for i in range(5,3,-1)]"
   ]
  },
  {
   "cell_type": "code",
   "execution_count": 10,
   "id": "424a1630",
   "metadata": {},
   "outputs": [
    {
     "data": {
      "text/plain": [
       "float"
      ]
     },
     "execution_count": 10,
     "metadata": {},
     "output_type": "execute_result"
    }
   ],
   "source": [
    "s = 'abcde'\n",
    "type((len(s)/2) - 0.5)"
   ]
  },
  {
   "cell_type": "code",
   "execution_count": 55,
   "id": "c5753f8e",
   "metadata": {},
   "outputs": [
    {
     "name": "stdout",
     "output_type": "stream",
     "text": [
      "7\n"
     ]
    },
    {
     "ename": "IndexError",
     "evalue": "list index out of range",
     "output_type": "error",
     "traceback": [
      "\u001b[0;31m---------------------------------------------------------------------------\u001b[0m",
      "\u001b[0;31mIndexError\u001b[0m                                Traceback (most recent call last)",
      "Input \u001b[0;32mIn [55]\u001b[0m, in \u001b[0;36m<cell line: 8>\u001b[0;34m()\u001b[0m\n\u001b[1;32m      6\u001b[0m y \u001b[38;5;241m=\u001b[39m \u001b[38;5;241m1\u001b[39m \n\u001b[1;32m      8\u001b[0m \u001b[38;5;28;01mwhile\u001b[39;00m y \u001b[38;5;241m!=\u001b[39m \u001b[38;5;28mlen\u001b[39m(arr)\u001b[38;5;241m+\u001b[39m\u001b[38;5;241m1\u001b[39m :\n\u001b[0;32m---> 10\u001b[0m     \u001b[38;5;28;01mif\u001b[39;00m arr[x] \u001b[38;5;241m==\u001b[39m \u001b[43marr\u001b[49m\u001b[43m[\u001b[49m\u001b[43my\u001b[49m\u001b[43m]\u001b[49m :\n\u001b[1;32m     11\u001b[0m         y \u001b[38;5;241m+\u001b[39m\u001b[38;5;241m=\u001b[39m \u001b[38;5;241m1\u001b[39m\n\u001b[1;32m     13\u001b[0m     \u001b[38;5;28;01melse\u001b[39;00m :\n",
      "\u001b[0;31mIndexError\u001b[0m: list index out of range"
     ]
    }
   ],
   "source": [
    "import re\n",
    "arr = [1,1,3,3,0,1,1]\n",
    "print(len(arr))\n",
    "answer = []\n",
    "x = 0\n",
    "y = 1 \n",
    "\n",
    "while y != len(arr)+1 :\n",
    "\n",
    "    if arr[x] == arr[y] :\n",
    "        y += 1\n",
    "\n",
    "    else :\n",
    "        answer.append(arr[x])\n",
    "        x = y\n",
    "        y += 1\n",
    "        \n",
    "answer"
   ]
  },
  {
   "cell_type": "code",
   "execution_count": 57,
   "id": "eb8d829d",
   "metadata": {},
   "outputs": [
    {
     "data": {
      "text/plain": [
       "['car', 'bed', 'sun']"
      ]
     },
     "execution_count": 57,
     "metadata": {},
     "output_type": "execute_result"
    }
   ],
   "source": [
    "n = 1\n",
    "strings = [\"sun\", \"bed\", \"car\"]\n",
    "answer = { i : ord(i[n]) for i in strings }\n",
    "answer = list(dict(sorted(answer.items(), key = lambda x : x[1])).keys())\n",
    "answer\n"
   ]
  },
  {
   "cell_type": "code",
   "execution_count": 60,
   "id": "6b95f1f9",
   "metadata": {},
   "outputs": [
    {
     "data": {
      "text/plain": [
       "[2, 3, 5, 9, 10]"
      ]
     },
     "execution_count": 60,
     "metadata": {},
     "output_type": "execute_result"
    }
   ],
   "source": [
    "n =10\n",
    "x =[i for i in range(2, n+1) if n % i == 0 or n % i ==1]\n",
    "x"
   ]
  },
  {
   "cell_type": "code",
   "execution_count": 62,
   "id": "206929ea",
   "metadata": {},
   "outputs": [
    {
     "data": {
      "text/plain": [
       "[2, 5, 10]"
      ]
     },
     "execution_count": 62,
     "metadata": {},
     "output_type": "execute_result"
    }
   ],
   "source": [
    "i =10\n",
    "[j for j in range(2, i+1) if i % j == 0 ]"
   ]
  },
  {
   "cell_type": "code",
   "execution_count": 82,
   "id": "ac1f8205",
   "metadata": {},
   "outputs": [
    {
     "name": "stdout",
     "output_type": "stream",
     "text": [
      "[2, 3, 4, 5]\n",
      "5\n"
     ]
    }
   ],
   "source": [
    "i = 10\n",
    "print(list(range(2, i//2 + 1)))\n",
    "print(i//2)"
   ]
  },
  {
   "cell_type": "code",
   "execution_count": 94,
   "id": "28916be5",
   "metadata": {},
   "outputs": [
    {
     "data": {
      "text/plain": [
       "['A', 'A']"
      ]
     },
     "execution_count": 94,
     "metadata": {},
     "output_type": "execute_result"
    }
   ],
   "source": [
    "s = list(\"AB\")\n",
    "ref = list(\"AB\")\n",
    "s[1] = ref[0]\n",
    "s"
   ]
  }
 ],
 "metadata": {
  "kernelspec": {
   "display_name": "Python 3 (ipykernel)",
   "language": "python",
   "name": "python3"
  },
  "language_info": {
   "codemirror_mode": {
    "name": "ipython",
    "version": 3
   },
   "file_extension": ".py",
   "mimetype": "text/x-python",
   "name": "python",
   "nbconvert_exporter": "python",
   "pygments_lexer": "ipython3",
   "version": "3.9.12"
  }
 },
 "nbformat": 4,
 "nbformat_minor": 5
}
