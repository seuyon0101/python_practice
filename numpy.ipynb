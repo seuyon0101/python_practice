{
 "cells": [
  {
   "cell_type": "code",
   "execution_count": 2,
   "id": "0a3c50ed",
   "metadata": {},
   "outputs": [],
   "source": [
    "import numpy as np"
   ]
  },
  {
   "cell_type": "markdown",
   "id": "717287d7",
   "metadata": {},
   "source": [
    "## array의  생성 "
   ]
  },
  {
   "cell_type": "code",
   "execution_count": 17,
   "id": "7adb38b6",
   "metadata": {},
   "outputs": [
    {
     "data": {
      "text/plain": [
       "array([1., 2., 3., 4., 5.], dtype=float32)"
      ]
     },
     "execution_count": 17,
     "metadata": {},
     "output_type": "execute_result"
    }
   ],
   "source": [
    "#np.array needs type assignment in contrast to conventional python dynamic type\n",
    "test_array = np.array([1,2,3,4,5], np.float32)\n",
    "test_array"
   ]
  },
  {
   "cell_type": "code",
   "execution_count": 20,
   "id": "5b5754f5",
   "metadata": {},
   "outputs": [
    {
     "data": {
      "text/plain": [
       "dtype('float32')"
      ]
     },
     "execution_count": 20,
     "metadata": {},
     "output_type": "execute_result"
    }
   ],
   "source": [
    "test_array.dtype"
   ]
  },
  {
   "cell_type": "code",
   "execution_count": 22,
   "id": "51a5b296",
   "metadata": {},
   "outputs": [
    {
     "data": {
      "text/plain": [
       "(5,)"
      ]
     },
     "execution_count": 22,
     "metadata": {},
     "output_type": "execute_result"
    }
   ],
   "source": [
    "test_array.shape"
   ]
  },
  {
   "cell_type": "code",
   "execution_count": 23,
   "id": "bc4a996a",
   "metadata": {},
   "outputs": [
    {
     "data": {
      "text/plain": [
       "1"
      ]
     },
     "execution_count": 23,
     "metadata": {},
     "output_type": "execute_result"
    }
   ],
   "source": [
    "test_array.ndim"
   ]
  },
  {
   "cell_type": "code",
   "execution_count": 24,
   "id": "59d5b056",
   "metadata": {},
   "outputs": [
    {
     "data": {
      "text/plain": [
       "5"
      ]
     },
     "execution_count": 24,
     "metadata": {},
     "output_type": "execute_result"
    }
   ],
   "source": [
    "test_array.size"
   ]
  },
  {
   "cell_type": "code",
   "execution_count": 25,
   "id": "66246136",
   "metadata": {},
   "outputs": [],
   "source": [
    "test_matrix = np.array([[1,2,3],[4,5,6]],np.float32)"
   ]
  },
  {
   "cell_type": "code",
   "execution_count": 28,
   "id": "424dd85e",
   "metadata": {},
   "outputs": [
    {
     "data": {
      "text/plain": [
       "(2, 3)"
      ]
     },
     "execution_count": 28,
     "metadata": {},
     "output_type": "execute_result"
    }
   ],
   "source": [
    "test_matrix.shape"
   ]
  },
  {
   "cell_type": "code",
   "execution_count": 27,
   "id": "8618b218",
   "metadata": {},
   "outputs": [
    {
     "data": {
      "text/plain": [
       "2"
      ]
     },
     "execution_count": 27,
     "metadata": {},
     "output_type": "execute_result"
    }
   ],
   "source": [
    "test_matrix.ndim"
   ]
  },
  {
   "cell_type": "code",
   "execution_count": 36,
   "id": "e1da9206",
   "metadata": {},
   "outputs": [
    {
     "data": {
      "text/plain": [
       "array([1., 2., 3., 4., 5., 6.], dtype=float32)"
      ]
     },
     "execution_count": 36,
     "metadata": {},
     "output_type": "execute_result"
    }
   ],
   "source": [
    "test_matrix.reshape(-1,)"
   ]
  },
  {
   "cell_type": "code",
   "execution_count": 38,
   "id": "37926a89",
   "metadata": {},
   "outputs": [
    {
     "data": {
      "text/plain": [
       "array([[1., 2., 3.],\n",
       "       [4., 5., 6.]], dtype=float32)"
      ]
     },
     "execution_count": 38,
     "metadata": {},
     "output_type": "execute_result"
    }
   ],
   "source": [
    "test_matrix.reshape(-1,3)"
   ]
  },
  {
   "cell_type": "code",
   "execution_count": 58,
   "id": "c18042b3",
   "metadata": {},
   "outputs": [
    {
     "data": {
      "text/plain": [
       "array([], shape=(0, 2), dtype=float32)"
      ]
     },
     "execution_count": 58,
     "metadata": {},
     "output_type": "execute_result"
    }
   ],
   "source": [
    "test_matrix[,1:]"
   ]
  },
  {
   "cell_type": "code",
   "execution_count": 59,
   "id": "04983a9b",
   "metadata": {},
   "outputs": [
    {
     "data": {
      "text/plain": [
       "array([[1., 0., 0.],\n",
       "       [0., 1., 0.],\n",
       "       [0., 0., 1.]], dtype=float32)"
      ]
     },
     "execution_count": 59,
     "metadata": {},
     "output_type": "execute_result"
    }
   ],
   "source": [
    "np.identity(3, np.float32)"
   ]
  },
  {
   "cell_type": "code",
   "execution_count": 61,
   "id": "8914b64a",
   "metadata": {},
   "outputs": [],
   "source": [
    "test_diag = np.eye(3,4,2)"
   ]
  },
  {
   "cell_type": "code",
   "execution_count": 63,
   "id": "9360c9a4",
   "metadata": {},
   "outputs": [
    {
     "data": {
      "text/plain": [
       "array([1., 1.])"
      ]
     },
     "execution_count": 63,
     "metadata": {},
     "output_type": "execute_result"
    }
   ],
   "source": [
    "np.diag(test_diag, k=2)"
   ]
  },
  {
   "cell_type": "code",
   "execution_count": 97,
   "id": "11608423",
   "metadata": {},
   "outputs": [],
   "source": [
    "test_array1 = np.array([1,2,3],np.float32).reshape(-1,3)\n",
    "test_array2 = np.array([4,5,6],np.float32).reshape(-1,3)"
   ]
  },
  {
   "cell_type": "code",
   "execution_count": 98,
   "id": "f6630b75",
   "metadata": {},
   "outputs": [
    {
     "data": {
      "text/plain": [
       "array([[1., 2., 3.]], dtype=float32)"
      ]
     },
     "execution_count": 98,
     "metadata": {},
     "output_type": "execute_result"
    }
   ],
   "source": [
    "test_array1"
   ]
  },
  {
   "cell_type": "code",
   "execution_count": 99,
   "id": "8a4c5ec9",
   "metadata": {},
   "outputs": [
    {
     "data": {
      "text/plain": [
       "array([[1., 2., 3.],\n",
       "       [4., 5., 6.]], dtype=float32)"
      ]
     },
     "execution_count": 99,
     "metadata": {},
     "output_type": "execute_result"
    }
   ],
   "source": [
    "np.concatenate((test_array1,test_array2), axis =0)"
   ]
  },
  {
   "cell_type": "code",
   "execution_count": 104,
   "id": "93516f74",
   "metadata": {},
   "outputs": [],
   "source": [
    "test_array1 = np.arange(1,7,1,dtype=np.float32).reshape(2,3)\n",
    "test_array2 = np.arange(1,7,1,dtype=np.float32).reshape(3,2)"
   ]
  },
  {
   "cell_type": "code",
   "execution_count": 105,
   "id": "51d09008",
   "metadata": {},
   "outputs": [
    {
     "data": {
      "text/plain": [
       "array([[22., 28.],\n",
       "       [49., 64.]], dtype=float32)"
      ]
     },
     "execution_count": 105,
     "metadata": {},
     "output_type": "execute_result"
    }
   ],
   "source": [
    "test_array1.dot(test_array2)"
   ]
  },
  {
   "cell_type": "code",
   "execution_count": 109,
   "id": "e86c1ab9",
   "metadata": {},
   "outputs": [
    {
     "data": {
      "text/plain": [
       "array([[4., 5.],\n",
       "       [6., 7.]], dtype=float32)"
      ]
     },
     "execution_count": 109,
     "metadata": {},
     "output_type": "execute_result"
    }
   ],
   "source": [
    "#broadcasting\n",
    "test_array = np.arange(1,5,1,dtype=np.float32).reshape(2,2)\n",
    "scalar = 3\n",
    "test_array + scalar"
   ]
  },
  {
   "cell_type": "code",
   "execution_count": 110,
   "id": "c226286b",
   "metadata": {},
   "outputs": [],
   "source": [
    "# numpy for calculations but not for joining(concatenation)"
   ]
  },
  {
   "cell_type": "code",
   "execution_count": 118,
   "id": "d37c3feb",
   "metadata": {},
   "outputs": [
    {
     "data": {
      "text/plain": [
       "array([[0, 2],\n",
       "       [2, 2]])"
      ]
     },
     "execution_count": 118,
     "metadata": {},
     "output_type": "execute_result"
    }
   ],
   "source": [
    "#np.where\n",
    "np.where(test_array > 1, 2,0)"
   ]
  },
  {
   "cell_type": "code",
   "execution_count": 119,
   "id": "e0bf88d3",
   "metadata": {},
   "outputs": [],
   "source": [
    "A = np.arange(1,10).reshape(-1,3)"
   ]
  },
  {
   "cell_type": "code",
   "execution_count": 121,
   "id": "431c1431",
   "metadata": {},
   "outputs": [],
   "source": [
    "B = A % 2 == 0"
   ]
  },
  {
   "cell_type": "code",
   "execution_count": 122,
   "id": "b7dc0ea6",
   "metadata": {},
   "outputs": [
    {
     "data": {
      "text/plain": [
       "array([[False,  True, False],\n",
       "       [ True, False,  True],\n",
       "       [False,  True, False]])"
      ]
     },
     "execution_count": 122,
     "metadata": {},
     "output_type": "execute_result"
    }
   ],
   "source": [
    "B"
   ]
  },
  {
   "cell_type": "code",
   "execution_count": 123,
   "id": "2cd8d74f",
   "metadata": {},
   "outputs": [
    {
     "data": {
      "text/plain": [
       "array([[0, 1, 0],\n",
       "       [1, 0, 1],\n",
       "       [0, 1, 0]])"
      ]
     },
     "execution_count": 123,
     "metadata": {},
     "output_type": "execute_result"
    }
   ],
   "source": [
    "B.astype(int)"
   ]
  },
  {
   "cell_type": "code",
   "execution_count": 127,
   "id": "d9eaaf08",
   "metadata": {},
   "outputs": [
    {
     "name": "stdout",
     "output_type": "stream",
     "text": [
      "[[1 2 3]\n",
      " [4 5 6]\n",
      " [7 8 9]]\n"
     ]
    },
    {
     "data": {
      "text/plain": [
       "array([2, 3, 3, 3, 3, 6])"
      ]
     },
     "execution_count": 127,
     "metadata": {},
     "output_type": "execute_result"
    }
   ],
   "source": [
    "#fancy index\n",
    "b = [1,2,2,2,2,5]\n",
    "print(A)\n",
    "A.take(b)"
   ]
  },
  {
   "cell_type": "code",
   "execution_count": null,
   "id": "9ee5a028",
   "metadata": {},
   "outputs": [],
   "source": []
  }
 ],
 "metadata": {
  "kernelspec": {
   "display_name": "Python 3 (ipykernel)",
   "language": "python",
   "name": "python3"
  },
  "language_info": {
   "codemirror_mode": {
    "name": "ipython",
    "version": 3
   },
   "file_extension": ".py",
   "mimetype": "text/x-python",
   "name": "python",
   "nbconvert_exporter": "python",
   "pygments_lexer": "ipython3",
   "version": "3.9.12"
  }
 },
 "nbformat": 4,
 "nbformat_minor": 5
}
