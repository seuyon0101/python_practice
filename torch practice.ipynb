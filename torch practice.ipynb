{
 "cells": [
  {
   "cell_type": "code",
   "execution_count": 1,
   "id": "a8d819f0",
   "metadata": {},
   "outputs": [],
   "source": [
    "import numpy as np\n",
    "import torch"
   ]
  },
  {
   "cell_type": "code",
   "execution_count": 2,
   "id": "e6d766d9",
   "metadata": {},
   "outputs": [
    {
     "name": "stdout",
     "output_type": "stream",
     "text": [
      "tensor([1., 2., 3.])\n"
     ]
    }
   ],
   "source": [
    "t = torch.FloatTensor([1,2,3])\n",
    "print(t)"
   ]
  },
  {
   "cell_type": "code",
   "execution_count": 7,
   "id": "848142bd",
   "metadata": {},
   "outputs": [
    {
     "name": "stdout",
     "output_type": "stream",
     "text": [
      "1\n",
      "torch.Size([3])\n",
      "torch.Size([3])\n",
      "tensor(1.)\n"
     ]
    }
   ],
   "source": [
    "print(t.dim())\n",
    "print(t.shape)\n",
    "print(t.size())\n",
    "print(t[0])"
   ]
  },
  {
   "cell_type": "code",
   "execution_count": 20,
   "id": "8a698cbe",
   "metadata": {},
   "outputs": [
    {
     "data": {
      "text/plain": [
       "tensor([[[ 0.,  1.,  2.],\n",
       "         [ 3.,  4.,  5.]],\n",
       "\n",
       "        [[ 6.,  7.,  8.],\n",
       "         [ 9., 10., 11.]]])"
      ]
     },
     "execution_count": 20,
     "metadata": {},
     "output_type": "execute_result"
    }
   ],
   "source": [
    "t = np.array( [ \n",
    "                  [ [0,1,2],\n",
    "                    [3,4,5] ],\n",
    "             \n",
    "                  [ [6,7,8],\n",
    "                    [9,10,11] ] \n",
    "              ])\n",
    "t\n",
    "\n",
    "ft = torch.FloatTensor(t)\n",
    "ft\n"
   ]
  },
  {
   "cell_type": "code",
   "execution_count": 27,
   "id": "9eec2c82",
   "metadata": {},
   "outputs": [
    {
     "name": "stdout",
     "output_type": "stream",
     "text": [
      "tensor([[[ 0.,  1.,  2.,  3.]],\n",
      "\n",
      "        [[ 4.,  5.,  6.,  7.]],\n",
      "\n",
      "        [[ 8.,  9., 10., 11.]]])\n"
     ]
    }
   ],
   "source": [
    "print(ft.view([3,1,-1]))"
   ]
  },
  {
   "cell_type": "code",
   "execution_count": 21,
   "id": "83a98b03",
   "metadata": {},
   "outputs": [
    {
     "name": "stdout",
     "output_type": "stream",
     "text": [
      "torch.Size([2, 2, 3])\n"
     ]
    }
   ],
   "source": [
    "print(ft.squeeze().shape)"
   ]
  },
  {
   "cell_type": "code",
   "execution_count": 33,
   "id": "f89d2171",
   "metadata": {},
   "outputs": [
    {
     "data": {
      "text/plain": [
       "tensor([[[ 0.,  1.,  2.],\n",
       "         [ 3.,  4.,  5.]],\n",
       "\n",
       "        [[ 6.,  7.,  8.],\n",
       "         [ 9., 10., 11.]]])"
      ]
     },
     "execution_count": 33,
     "metadata": {},
     "output_type": "execute_result"
    }
   ],
   "source": [
    "ft.squeeze(1)"
   ]
  },
  {
   "cell_type": "code",
   "execution_count": 38,
   "id": "f284bb29",
   "metadata": {},
   "outputs": [
    {
     "data": {
      "text/plain": [
       "4"
      ]
     },
     "execution_count": 38,
     "metadata": {},
     "output_type": "execute_result"
    }
   ],
   "source": [
    "ft.unsqueeze(0).dim()"
   ]
  },
  {
   "cell_type": "markdown",
   "id": "7d5fad53",
   "metadata": {},
   "source": [
    "### linear regresssion "
   ]
  },
  {
   "cell_type": "code",
   "execution_count": 55,
   "id": "525e353a",
   "metadata": {},
   "outputs": [],
   "source": [
    "hours = [1,2,3]\n",
    "points = [2,4,6]"
   ]
  },
  {
   "cell_type": "code",
   "execution_count": 56,
   "id": "4d91f258",
   "metadata": {},
   "outputs": [],
   "source": [
    "x_train = torch.FloatTensor(hours)\n",
    "y_train = torch.FloatTensor(points)"
   ]
  },
  {
   "cell_type": "code",
   "execution_count": 57,
   "id": "b6d271fe",
   "metadata": {},
   "outputs": [],
   "source": [
    "w = torch.zeros(1, requires_grad = True)\n",
    "# b = torch.zeros(1, requires_grad = True)\n",
    "\n",
    "hypothesis = x_train * w # +b"
   ]
  },
  {
   "cell_type": "code",
   "execution_count": 52,
   "id": "a564335d",
   "metadata": {},
   "outputs": [],
   "source": [
    "# compute loss\n",
    "#MSE\n",
    "cost = torch.mean((hypothesis - y_train) ** 2)"
   ]
  },
  {
   "cell_type": "code",
   "execution_count": 59,
   "id": "f383230c",
   "metadata": {},
   "outputs": [
    {
     "name": "stdout",
     "output_type": "stream",
     "text": [
      "Epoch    1/50 W : 1.249 Cost : 2.630388\n",
      "Epoch    2/50 W : 1.319 Cost : 2.162295\n",
      "Epoch    3/50 W : 1.383 Cost : 1.777503\n",
      "Epoch    4/50 W : 1.440 Cost : 1.461186\n",
      "Epoch    5/50 W : 1.493 Cost : 1.201160\n",
      "Epoch    6/50 W : 1.540 Cost : 0.987407\n",
      "Epoch    7/50 W : 1.583 Cost : 0.811692\n",
      "Epoch    8/50 W : 1.622 Cost : 0.667247\n",
      "Epoch    9/50 W : 1.657 Cost : 0.548507\n",
      "Epoch   10/50 W : 1.689 Cost : 0.450897\n",
      "Epoch   11/50 W : 1.718 Cost : 0.370657\n",
      "Epoch   12/50 W : 1.744 Cost : 0.304697\n",
      "Epoch   13/50 W : 1.768 Cost : 0.250474\n",
      "Epoch   14/50 W : 1.790 Cost : 0.205901\n",
      "Epoch   15/50 W : 1.810 Cost : 0.169260\n",
      "Epoch   16/50 W : 1.827 Cost : 0.139139\n",
      "Epoch   17/50 W : 1.843 Cost : 0.114378\n",
      "Epoch   18/50 W : 1.858 Cost : 0.094024\n",
      "Epoch   19/50 W : 1.871 Cost : 0.077292\n",
      "Epoch   20/50 W : 1.883 Cost : 0.063538\n",
      "Epoch   21/50 W : 1.894 Cost : 0.052231\n",
      "Epoch   22/50 W : 1.904 Cost : 0.042936\n",
      "Epoch   23/50 W : 1.913 Cost : 0.035295\n",
      "Epoch   24/50 W : 1.921 Cost : 0.029014\n",
      "Epoch   25/50 W : 1.929 Cost : 0.023851\n",
      "Epoch   26/50 W : 1.935 Cost : 0.019606\n",
      "Epoch   27/50 W : 1.941 Cost : 0.016117\n",
      "Epoch   28/50 W : 1.947 Cost : 0.013249\n",
      "Epoch   29/50 W : 1.952 Cost : 0.010891\n",
      "Epoch   30/50 W : 1.956 Cost : 0.008953\n",
      "Epoch   31/50 W : 1.960 Cost : 0.007360\n",
      "Epoch   32/50 W : 1.964 Cost : 0.006050\n",
      "Epoch   33/50 W : 1.967 Cost : 0.004974\n",
      "Epoch   34/50 W : 1.970 Cost : 0.004088\n",
      "Epoch   35/50 W : 1.973 Cost : 0.003361\n",
      "Epoch   36/50 W : 1.976 Cost : 0.002763\n",
      "Epoch   37/50 W : 1.978 Cost : 0.002271\n",
      "Epoch   38/50 W : 1.980 Cost : 0.001867\n",
      "Epoch   39/50 W : 1.982 Cost : 0.001535\n",
      "Epoch   40/50 W : 1.984 Cost : 0.001262\n",
      "Epoch   41/50 W : 1.985 Cost : 0.001037\n",
      "Epoch   42/50 W : 1.986 Cost : 0.000853\n",
      "Epoch   43/50 W : 1.988 Cost : 0.000701\n",
      "Epoch   44/50 W : 1.989 Cost : 0.000576\n",
      "Epoch   45/50 W : 1.990 Cost : 0.000474\n",
      "Epoch   46/50 W : 1.991 Cost : 0.000389\n",
      "Epoch   47/50 W : 1.992 Cost : 0.000320\n",
      "Epoch   48/50 W : 1.992 Cost : 0.000263\n",
      "Epoch   49/50 W : 1.993 Cost : 0.000216\n",
      "Epoch   50/50 W : 1.994 Cost : 0.000178\n"
     ]
    }
   ],
   "source": [
    "optimizer = torch.optim.SGD([w], lr =0.01)\n",
    "\n",
    "nb_epochs = 50\n",
    "\n",
    "for epoch in range(1, nb_epochs + 1 ) :\n",
    "    #H(X) \n",
    "    hypothesis = x_train * w # + b \n",
    "    \n",
    "    #cost\n",
    "    cost = torch.mean((hypothesis - y_train) ** 2)\n",
    "    \n",
    "    print('Epoch {:4d}/{} W : {:.3f} Cost : {:.6f}'.format( epoch, nb_epochs, w.item(), cost.item()))\n",
    "    \n",
    "    \n",
    "    #cost로 H(X) 개선\n",
    "    optimizer.zero_grad()\n",
    "    cost.backward()\n",
    "    optimizer.step()"
   ]
  },
  {
   "cell_type": "code",
   "execution_count": 50,
   "id": "00c91156",
   "metadata": {},
   "outputs": [
    {
     "name": "stdout",
     "output_type": "stream",
     "text": [
      "tensor(0.0006, grad_fn=<MeanBackward0>)\n"
     ]
    }
   ],
   "source": []
  }
 ],
 "metadata": {
  "kernelspec": {
   "display_name": "Python 3 (ipykernel)",
   "language": "python",
   "name": "python3"
  },
  "language_info": {
   "codemirror_mode": {
    "name": "ipython",
    "version": 3
   },
   "file_extension": ".py",
   "mimetype": "text/x-python",
   "name": "python",
   "nbconvert_exporter": "python",
   "pygments_lexer": "ipython3",
   "version": "3.9.12"
  }
 },
 "nbformat": 4,
 "nbformat_minor": 5
}
